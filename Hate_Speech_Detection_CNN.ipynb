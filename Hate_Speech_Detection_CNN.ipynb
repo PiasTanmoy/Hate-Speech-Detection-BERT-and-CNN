{
  "nbformat": 4,
  "nbformat_minor": 0,
  "metadata": {
    "colab": {
      "name": "Security Project Hate Speech Detection - CNN.ipynb",
      "provenance": [],
      "mount_file_id": "1OTYrAkcs7asIKSQzEl2Z3hPpO1t0cIEl",
      "authorship_tag": "ABX9TyPoj8Hz6tfkT0ediAX2P6iB",
      "include_colab_link": true
    },
    "kernelspec": {
      "name": "python3",
      "display_name": "Python 3"
    },
    "language_info": {
      "name": "python"
    }
  },
  "cells": [
    {
      "cell_type": "markdown",
      "metadata": {
        "id": "view-in-github",
        "colab_type": "text"
      },
      "source": [
        "<a href=\"https://colab.research.google.com/github/PiasTanmoy/Hate-Speech-Detection-BERT-and-CNN/blob/main/Hate_Speech_Detection_CNN.ipynb\" target=\"_parent\"><img src=\"https://colab.research.google.com/assets/colab-badge.svg\" alt=\"Open In Colab\"/></a>"
      ]
    },
    {
      "cell_type": "code",
      "execution_count": 1,
      "metadata": {
        "colab": {
          "base_uri": "https://localhost:8080/"
        },
        "id": "rDLypcG3RWr-",
        "outputId": "5e96d856-346e-4209-f35e-cb4f43daf71c"
      },
      "outputs": [
        {
          "output_type": "stream",
          "name": "stdout",
          "text": [
            "2.8.0\n"
          ]
        }
      ],
      "source": [
        "import numpy as np\n",
        "import pandas as pd\n",
        "import pickle\n",
        "import tensorflow as tf\n",
        "from wordcloud import WordCloud, STOPWORDS\n",
        "import matplotlib.pyplot as plt\n",
        "from tensorflow.keras.preprocessing import text, sequence\n",
        "from tensorflow.keras.models import Sequential\n",
        "from tensorflow.keras.layers import Dense, Dropout, Activation\n",
        "from tensorflow.keras.layers import Embedding\n",
        "from tensorflow.keras.layers import Conv1D, GlobalMaxPooling1D, MaxPooling1D\n",
        "from sklearn.model_selection import train_test_split\n",
        "from sklearn.metrics import accuracy_score, f1_score, confusion_matrix\n",
        "import seaborn as sns\n",
        "plt.style.use('fivethirtyeight')\n",
        "print(tf.__version__)\n",
        "\n",
        "import os\n",
        "for dirname, _, filenames in os.walk('/kaggle/input'):\n",
        "    for filename in filenames:\n",
        "        print(filename)"
      ]
    },
    {
      "cell_type": "code",
      "source": [
        "df = pd.read_csv('/content/drive/Shareddrives/Shared Dataset/Hate-Speech-Twitter/labeled_data.csv')\n",
        "df.head()"
      ],
      "metadata": {
        "colab": {
          "base_uri": "https://localhost:8080/",
          "height": 206
        },
        "id": "jSaP9E8-RhZz",
        "outputId": "7c048945-a0f6-4c46-8670-d897a2057c68"
      },
      "execution_count": 3,
      "outputs": [
        {
          "output_type": "execute_result",
          "data": {
            "text/plain": [
              "   Unnamed: 0  count  hate_speech  offensive_language  neither  class  \\\n",
              "0           0      3            0                   0        3      2   \n",
              "1           1      3            0                   3        0      1   \n",
              "2           2      3            0                   3        0      1   \n",
              "3           3      3            0                   2        1      1   \n",
              "4           4      6            0                   6        0      1   \n",
              "\n",
              "                                               tweet  \n",
              "0  !!! RT @mayasolovely: As a woman you shouldn't...  \n",
              "1  !!!!! RT @mleew17: boy dats cold...tyga dwn ba...  \n",
              "2  !!!!!!! RT @UrKindOfBrand Dawg!!!! RT @80sbaby...  \n",
              "3  !!!!!!!!! RT @C_G_Anderson: @viva_based she lo...  \n",
              "4  !!!!!!!!!!!!! RT @ShenikaRoberts: The shit you...  "
            ],
            "text/html": [
              "\n",
              "  <div id=\"df-f3eaf543-0434-4014-aecc-301143a054af\">\n",
              "    <div class=\"colab-df-container\">\n",
              "      <div>\n",
              "<style scoped>\n",
              "    .dataframe tbody tr th:only-of-type {\n",
              "        vertical-align: middle;\n",
              "    }\n",
              "\n",
              "    .dataframe tbody tr th {\n",
              "        vertical-align: top;\n",
              "    }\n",
              "\n",
              "    .dataframe thead th {\n",
              "        text-align: right;\n",
              "    }\n",
              "</style>\n",
              "<table border=\"1\" class=\"dataframe\">\n",
              "  <thead>\n",
              "    <tr style=\"text-align: right;\">\n",
              "      <th></th>\n",
              "      <th>Unnamed: 0</th>\n",
              "      <th>count</th>\n",
              "      <th>hate_speech</th>\n",
              "      <th>offensive_language</th>\n",
              "      <th>neither</th>\n",
              "      <th>class</th>\n",
              "      <th>tweet</th>\n",
              "    </tr>\n",
              "  </thead>\n",
              "  <tbody>\n",
              "    <tr>\n",
              "      <th>0</th>\n",
              "      <td>0</td>\n",
              "      <td>3</td>\n",
              "      <td>0</td>\n",
              "      <td>0</td>\n",
              "      <td>3</td>\n",
              "      <td>2</td>\n",
              "      <td>!!! RT @mayasolovely: As a woman you shouldn't...</td>\n",
              "    </tr>\n",
              "    <tr>\n",
              "      <th>1</th>\n",
              "      <td>1</td>\n",
              "      <td>3</td>\n",
              "      <td>0</td>\n",
              "      <td>3</td>\n",
              "      <td>0</td>\n",
              "      <td>1</td>\n",
              "      <td>!!!!! RT @mleew17: boy dats cold...tyga dwn ba...</td>\n",
              "    </tr>\n",
              "    <tr>\n",
              "      <th>2</th>\n",
              "      <td>2</td>\n",
              "      <td>3</td>\n",
              "      <td>0</td>\n",
              "      <td>3</td>\n",
              "      <td>0</td>\n",
              "      <td>1</td>\n",
              "      <td>!!!!!!! RT @UrKindOfBrand Dawg!!!! RT @80sbaby...</td>\n",
              "    </tr>\n",
              "    <tr>\n",
              "      <th>3</th>\n",
              "      <td>3</td>\n",
              "      <td>3</td>\n",
              "      <td>0</td>\n",
              "      <td>2</td>\n",
              "      <td>1</td>\n",
              "      <td>1</td>\n",
              "      <td>!!!!!!!!! RT @C_G_Anderson: @viva_based she lo...</td>\n",
              "    </tr>\n",
              "    <tr>\n",
              "      <th>4</th>\n",
              "      <td>4</td>\n",
              "      <td>6</td>\n",
              "      <td>0</td>\n",
              "      <td>6</td>\n",
              "      <td>0</td>\n",
              "      <td>1</td>\n",
              "      <td>!!!!!!!!!!!!! RT @ShenikaRoberts: The shit you...</td>\n",
              "    </tr>\n",
              "  </tbody>\n",
              "</table>\n",
              "</div>\n",
              "      <button class=\"colab-df-convert\" onclick=\"convertToInteractive('df-f3eaf543-0434-4014-aecc-301143a054af')\"\n",
              "              title=\"Convert this dataframe to an interactive table.\"\n",
              "              style=\"display:none;\">\n",
              "        \n",
              "  <svg xmlns=\"http://www.w3.org/2000/svg\" height=\"24px\"viewBox=\"0 0 24 24\"\n",
              "       width=\"24px\">\n",
              "    <path d=\"M0 0h24v24H0V0z\" fill=\"none\"/>\n",
              "    <path d=\"M18.56 5.44l.94 2.06.94-2.06 2.06-.94-2.06-.94-.94-2.06-.94 2.06-2.06.94zm-11 1L8.5 8.5l.94-2.06 2.06-.94-2.06-.94L8.5 2.5l-.94 2.06-2.06.94zm10 10l.94 2.06.94-2.06 2.06-.94-2.06-.94-.94-2.06-.94 2.06-2.06.94z\"/><path d=\"M17.41 7.96l-1.37-1.37c-.4-.4-.92-.59-1.43-.59-.52 0-1.04.2-1.43.59L10.3 9.45l-7.72 7.72c-.78.78-.78 2.05 0 2.83L4 21.41c.39.39.9.59 1.41.59.51 0 1.02-.2 1.41-.59l7.78-7.78 2.81-2.81c.8-.78.8-2.07 0-2.86zM5.41 20L4 18.59l7.72-7.72 1.47 1.35L5.41 20z\"/>\n",
              "  </svg>\n",
              "      </button>\n",
              "      \n",
              "  <style>\n",
              "    .colab-df-container {\n",
              "      display:flex;\n",
              "      flex-wrap:wrap;\n",
              "      gap: 12px;\n",
              "    }\n",
              "\n",
              "    .colab-df-convert {\n",
              "      background-color: #E8F0FE;\n",
              "      border: none;\n",
              "      border-radius: 50%;\n",
              "      cursor: pointer;\n",
              "      display: none;\n",
              "      fill: #1967D2;\n",
              "      height: 32px;\n",
              "      padding: 0 0 0 0;\n",
              "      width: 32px;\n",
              "    }\n",
              "\n",
              "    .colab-df-convert:hover {\n",
              "      background-color: #E2EBFA;\n",
              "      box-shadow: 0px 1px 2px rgba(60, 64, 67, 0.3), 0px 1px 3px 1px rgba(60, 64, 67, 0.15);\n",
              "      fill: #174EA6;\n",
              "    }\n",
              "\n",
              "    [theme=dark] .colab-df-convert {\n",
              "      background-color: #3B4455;\n",
              "      fill: #D2E3FC;\n",
              "    }\n",
              "\n",
              "    [theme=dark] .colab-df-convert:hover {\n",
              "      background-color: #434B5C;\n",
              "      box-shadow: 0px 1px 3px 1px rgba(0, 0, 0, 0.15);\n",
              "      filter: drop-shadow(0px 1px 2px rgba(0, 0, 0, 0.3));\n",
              "      fill: #FFFFFF;\n",
              "    }\n",
              "  </style>\n",
              "\n",
              "      <script>\n",
              "        const buttonEl =\n",
              "          document.querySelector('#df-f3eaf543-0434-4014-aecc-301143a054af button.colab-df-convert');\n",
              "        buttonEl.style.display =\n",
              "          google.colab.kernel.accessAllowed ? 'block' : 'none';\n",
              "\n",
              "        async function convertToInteractive(key) {\n",
              "          const element = document.querySelector('#df-f3eaf543-0434-4014-aecc-301143a054af');\n",
              "          const dataTable =\n",
              "            await google.colab.kernel.invokeFunction('convertToInteractive',\n",
              "                                                     [key], {});\n",
              "          if (!dataTable) return;\n",
              "\n",
              "          const docLinkHtml = 'Like what you see? Visit the ' +\n",
              "            '<a target=\"_blank\" href=https://colab.research.google.com/notebooks/data_table.ipynb>data table notebook</a>'\n",
              "            + ' to learn more about interactive tables.';\n",
              "          element.innerHTML = '';\n",
              "          dataTable['output_type'] = 'display_data';\n",
              "          await google.colab.output.renderOutput(dataTable, element);\n",
              "          const docLink = document.createElement('div');\n",
              "          docLink.innerHTML = docLinkHtml;\n",
              "          element.appendChild(docLink);\n",
              "        }\n",
              "      </script>\n",
              "    </div>\n",
              "  </div>\n",
              "  "
            ]
          },
          "metadata": {},
          "execution_count": 3
        }
      ]
    },
    {
      "cell_type": "code",
      "source": [
        "nRow, nCol = df.shape\n",
        "print('There are {} rows and {} columns'.format(nRow, nCol))"
      ],
      "metadata": {
        "colab": {
          "base_uri": "https://localhost:8080/"
        },
        "id": "jNZMTYbdRnB3",
        "outputId": "ed02b72e-4d18-47a0-bd53-194d1932589c"
      },
      "execution_count": 4,
      "outputs": [
        {
          "output_type": "stream",
          "name": "stdout",
          "text": [
            "There are 24783 rows and 7 columns\n"
          ]
        }
      ]
    },
    {
      "cell_type": "code",
      "source": [
        "c=df['class']\n",
        "df.rename(columns={'tweet' : 'text',\n",
        "                   'class' : 'category'}, \n",
        "                    inplace=True)\n",
        "a=df['text']\n",
        "b=df['category'].map({0: 'hate_speech', 1: 'offensive_language',2: 'neither'})\n",
        "\n",
        "df= pd.concat([a,b,c], axis=1)\n",
        "df.rename(columns={'class' : 'label'}, \n",
        "                    inplace=True)\n",
        "df"
      ],
      "metadata": {
        "colab": {
          "base_uri": "https://localhost:8080/",
          "height": 424
        },
        "id": "hwuiJoRFRoW8",
        "outputId": "ab76d8ba-c84d-414e-a27c-1a4ee41aafa9"
      },
      "execution_count": 5,
      "outputs": [
        {
          "output_type": "execute_result",
          "data": {
            "text/plain": [
              "                                                    text            category  \\\n",
              "0      !!! RT @mayasolovely: As a woman you shouldn't...             neither   \n",
              "1      !!!!! RT @mleew17: boy dats cold...tyga dwn ba...  offensive_language   \n",
              "2      !!!!!!! RT @UrKindOfBrand Dawg!!!! RT @80sbaby...  offensive_language   \n",
              "3      !!!!!!!!! RT @C_G_Anderson: @viva_based she lo...  offensive_language   \n",
              "4      !!!!!!!!!!!!! RT @ShenikaRoberts: The shit you...  offensive_language   \n",
              "...                                                  ...                 ...   \n",
              "24778  you's a muthaf***in lie &#8220;@LifeAsKing: @2...  offensive_language   \n",
              "24779  you've gone and broke the wrong heart baby, an...             neither   \n",
              "24780  young buck wanna eat!!.. dat nigguh like I ain...  offensive_language   \n",
              "24781              youu got wild bitches tellin you lies  offensive_language   \n",
              "24782  ~~Ruffled | Ntac Eileen Dahlia - Beautiful col...             neither   \n",
              "\n",
              "       label  \n",
              "0          2  \n",
              "1          1  \n",
              "2          1  \n",
              "3          1  \n",
              "4          1  \n",
              "...      ...  \n",
              "24778      1  \n",
              "24779      2  \n",
              "24780      1  \n",
              "24781      1  \n",
              "24782      2  \n",
              "\n",
              "[24783 rows x 3 columns]"
            ],
            "text/html": [
              "\n",
              "  <div id=\"df-9abd1f64-2f67-4ab3-9d06-45dab20d04b1\">\n",
              "    <div class=\"colab-df-container\">\n",
              "      <div>\n",
              "<style scoped>\n",
              "    .dataframe tbody tr th:only-of-type {\n",
              "        vertical-align: middle;\n",
              "    }\n",
              "\n",
              "    .dataframe tbody tr th {\n",
              "        vertical-align: top;\n",
              "    }\n",
              "\n",
              "    .dataframe thead th {\n",
              "        text-align: right;\n",
              "    }\n",
              "</style>\n",
              "<table border=\"1\" class=\"dataframe\">\n",
              "  <thead>\n",
              "    <tr style=\"text-align: right;\">\n",
              "      <th></th>\n",
              "      <th>text</th>\n",
              "      <th>category</th>\n",
              "      <th>label</th>\n",
              "    </tr>\n",
              "  </thead>\n",
              "  <tbody>\n",
              "    <tr>\n",
              "      <th>0</th>\n",
              "      <td>!!! RT @mayasolovely: As a woman you shouldn't...</td>\n",
              "      <td>neither</td>\n",
              "      <td>2</td>\n",
              "    </tr>\n",
              "    <tr>\n",
              "      <th>1</th>\n",
              "      <td>!!!!! RT @mleew17: boy dats cold...tyga dwn ba...</td>\n",
              "      <td>offensive_language</td>\n",
              "      <td>1</td>\n",
              "    </tr>\n",
              "    <tr>\n",
              "      <th>2</th>\n",
              "      <td>!!!!!!! RT @UrKindOfBrand Dawg!!!! RT @80sbaby...</td>\n",
              "      <td>offensive_language</td>\n",
              "      <td>1</td>\n",
              "    </tr>\n",
              "    <tr>\n",
              "      <th>3</th>\n",
              "      <td>!!!!!!!!! RT @C_G_Anderson: @viva_based she lo...</td>\n",
              "      <td>offensive_language</td>\n",
              "      <td>1</td>\n",
              "    </tr>\n",
              "    <tr>\n",
              "      <th>4</th>\n",
              "      <td>!!!!!!!!!!!!! RT @ShenikaRoberts: The shit you...</td>\n",
              "      <td>offensive_language</td>\n",
              "      <td>1</td>\n",
              "    </tr>\n",
              "    <tr>\n",
              "      <th>...</th>\n",
              "      <td>...</td>\n",
              "      <td>...</td>\n",
              "      <td>...</td>\n",
              "    </tr>\n",
              "    <tr>\n",
              "      <th>24778</th>\n",
              "      <td>you's a muthaf***in lie &amp;#8220;@LifeAsKing: @2...</td>\n",
              "      <td>offensive_language</td>\n",
              "      <td>1</td>\n",
              "    </tr>\n",
              "    <tr>\n",
              "      <th>24779</th>\n",
              "      <td>you've gone and broke the wrong heart baby, an...</td>\n",
              "      <td>neither</td>\n",
              "      <td>2</td>\n",
              "    </tr>\n",
              "    <tr>\n",
              "      <th>24780</th>\n",
              "      <td>young buck wanna eat!!.. dat nigguh like I ain...</td>\n",
              "      <td>offensive_language</td>\n",
              "      <td>1</td>\n",
              "    </tr>\n",
              "    <tr>\n",
              "      <th>24781</th>\n",
              "      <td>youu got wild bitches tellin you lies</td>\n",
              "      <td>offensive_language</td>\n",
              "      <td>1</td>\n",
              "    </tr>\n",
              "    <tr>\n",
              "      <th>24782</th>\n",
              "      <td>~~Ruffled | Ntac Eileen Dahlia - Beautiful col...</td>\n",
              "      <td>neither</td>\n",
              "      <td>2</td>\n",
              "    </tr>\n",
              "  </tbody>\n",
              "</table>\n",
              "<p>24783 rows × 3 columns</p>\n",
              "</div>\n",
              "      <button class=\"colab-df-convert\" onclick=\"convertToInteractive('df-9abd1f64-2f67-4ab3-9d06-45dab20d04b1')\"\n",
              "              title=\"Convert this dataframe to an interactive table.\"\n",
              "              style=\"display:none;\">\n",
              "        \n",
              "  <svg xmlns=\"http://www.w3.org/2000/svg\" height=\"24px\"viewBox=\"0 0 24 24\"\n",
              "       width=\"24px\">\n",
              "    <path d=\"M0 0h24v24H0V0z\" fill=\"none\"/>\n",
              "    <path d=\"M18.56 5.44l.94 2.06.94-2.06 2.06-.94-2.06-.94-.94-2.06-.94 2.06-2.06.94zm-11 1L8.5 8.5l.94-2.06 2.06-.94-2.06-.94L8.5 2.5l-.94 2.06-2.06.94zm10 10l.94 2.06.94-2.06 2.06-.94-2.06-.94-.94-2.06-.94 2.06-2.06.94z\"/><path d=\"M17.41 7.96l-1.37-1.37c-.4-.4-.92-.59-1.43-.59-.52 0-1.04.2-1.43.59L10.3 9.45l-7.72 7.72c-.78.78-.78 2.05 0 2.83L4 21.41c.39.39.9.59 1.41.59.51 0 1.02-.2 1.41-.59l7.78-7.78 2.81-2.81c.8-.78.8-2.07 0-2.86zM5.41 20L4 18.59l7.72-7.72 1.47 1.35L5.41 20z\"/>\n",
              "  </svg>\n",
              "      </button>\n",
              "      \n",
              "  <style>\n",
              "    .colab-df-container {\n",
              "      display:flex;\n",
              "      flex-wrap:wrap;\n",
              "      gap: 12px;\n",
              "    }\n",
              "\n",
              "    .colab-df-convert {\n",
              "      background-color: #E8F0FE;\n",
              "      border: none;\n",
              "      border-radius: 50%;\n",
              "      cursor: pointer;\n",
              "      display: none;\n",
              "      fill: #1967D2;\n",
              "      height: 32px;\n",
              "      padding: 0 0 0 0;\n",
              "      width: 32px;\n",
              "    }\n",
              "\n",
              "    .colab-df-convert:hover {\n",
              "      background-color: #E2EBFA;\n",
              "      box-shadow: 0px 1px 2px rgba(60, 64, 67, 0.3), 0px 1px 3px 1px rgba(60, 64, 67, 0.15);\n",
              "      fill: #174EA6;\n",
              "    }\n",
              "\n",
              "    [theme=dark] .colab-df-convert {\n",
              "      background-color: #3B4455;\n",
              "      fill: #D2E3FC;\n",
              "    }\n",
              "\n",
              "    [theme=dark] .colab-df-convert:hover {\n",
              "      background-color: #434B5C;\n",
              "      box-shadow: 0px 1px 3px 1px rgba(0, 0, 0, 0.15);\n",
              "      filter: drop-shadow(0px 1px 2px rgba(0, 0, 0, 0.3));\n",
              "      fill: #FFFFFF;\n",
              "    }\n",
              "  </style>\n",
              "\n",
              "      <script>\n",
              "        const buttonEl =\n",
              "          document.querySelector('#df-9abd1f64-2f67-4ab3-9d06-45dab20d04b1 button.colab-df-convert');\n",
              "        buttonEl.style.display =\n",
              "          google.colab.kernel.accessAllowed ? 'block' : 'none';\n",
              "\n",
              "        async function convertToInteractive(key) {\n",
              "          const element = document.querySelector('#df-9abd1f64-2f67-4ab3-9d06-45dab20d04b1');\n",
              "          const dataTable =\n",
              "            await google.colab.kernel.invokeFunction('convertToInteractive',\n",
              "                                                     [key], {});\n",
              "          if (!dataTable) return;\n",
              "\n",
              "          const docLinkHtml = 'Like what you see? Visit the ' +\n",
              "            '<a target=\"_blank\" href=https://colab.research.google.com/notebooks/data_table.ipynb>data table notebook</a>'\n",
              "            + ' to learn more about interactive tables.';\n",
              "          element.innerHTML = '';\n",
              "          dataTable['output_type'] = 'display_data';\n",
              "          await google.colab.output.renderOutput(dataTable, element);\n",
              "          const docLink = document.createElement('div');\n",
              "          docLink.innerHTML = docLinkHtml;\n",
              "          element.appendChild(docLink);\n",
              "        }\n",
              "      </script>\n",
              "    </div>\n",
              "  </div>\n",
              "  "
            ]
          },
          "metadata": {},
          "execution_count": 5
        }
      ]
    },
    {
      "cell_type": "code",
      "source": [
        "# Grouping data by label\n",
        "df['category'].value_counts()"
      ],
      "metadata": {
        "colab": {
          "base_uri": "https://localhost:8080/"
        },
        "id": "YbZQW-AZRqGk",
        "outputId": "df798839-c2f8-4497-b686-efbeb36c0aaf"
      },
      "execution_count": 6,
      "outputs": [
        {
          "output_type": "execute_result",
          "data": {
            "text/plain": [
              "offensive_language    19190\n",
              "neither                4163\n",
              "hate_speech            1430\n",
              "Name: category, dtype: int64"
            ]
          },
          "metadata": {},
          "execution_count": 6
        }
      ]
    },
    {
      "cell_type": "code",
      "source": [
        "hate, ofensive, neither = np.bincount(df['label'])\n",
        "total = hate + ofensive + neither\n",
        "print('Examples:\\n    Total: {}\\n    hate: {} ({:.2f}% of total)\\n'.format(\n",
        "    total, hate, 100 * hate / total))\n",
        "print('Examples:\\n    Total: {}\\n    Ofensive: {} ({:.2f}% of total)\\n'.format(\n",
        "    total, ofensive, 100 * ofensive / total))\n",
        "print('Examples:\\n    Total: {}\\n    Neither: {} ({:.2f}% of total)\\n'.format(\n",
        "    total, neither, 100 * neither / total))"
      ],
      "metadata": {
        "colab": {
          "base_uri": "https://localhost:8080/"
        },
        "id": "l2qSXQSkRsHI",
        "outputId": "46d0654c-8088-4db2-c5c1-5c88e628fa45"
      },
      "execution_count": 7,
      "outputs": [
        {
          "output_type": "stream",
          "name": "stdout",
          "text": [
            "Examples:\n",
            "    Total: 24783\n",
            "    hate: 1430 (5.77% of total)\n",
            "\n",
            "Examples:\n",
            "    Total: 24783\n",
            "    Ofensive: 19190 (77.43% of total)\n",
            "\n",
            "Examples:\n",
            "    Total: 24783\n",
            "    Neither: 4163 (16.80% of total)\n",
            "\n"
          ]
        }
      ]
    },
    {
      "cell_type": "code",
      "source": [
        "X_train_, X_test, y_train_, y_test = train_test_split(\n",
        "    df.index.values,\n",
        "    df.label.values,\n",
        "    test_size=0.10,\n",
        "    random_state=42,\n",
        "    stratify=df.label.values,    \n",
        ")"
      ],
      "metadata": {
        "id": "yd480faMRuv0"
      },
      "execution_count": 8,
      "outputs": []
    },
    {
      "cell_type": "code",
      "source": [
        "X_train, X_val, y_train, y_val = train_test_split(\n",
        "    df.loc[X_train_].index.values,\n",
        "    df.loc[X_train_].label.values,\n",
        "    test_size=0.10,\n",
        "    random_state=42,\n",
        "    stratify=df.loc[X_train_].label.values,  \n",
        ")"
      ],
      "metadata": {
        "id": "QmULIV32RvZX"
      },
      "execution_count": 9,
      "outputs": []
    },
    {
      "cell_type": "code",
      "source": [
        "df['data_type'] = ['not_set']*df.shape[0]\n",
        "df.loc[X_train, 'data_type'] = 'train'\n",
        "df.loc[X_val, 'data_type'] = 'val'\n",
        "df.loc[X_test, 'data_type'] = 'test'"
      ],
      "metadata": {
        "id": "hdXiBCVSRw7p"
      },
      "execution_count": 10,
      "outputs": []
    },
    {
      "cell_type": "code",
      "source": [
        "df.groupby(['category', 'label', 'data_type']).count()"
      ],
      "metadata": {
        "colab": {
          "base_uri": "https://localhost:8080/",
          "height": 363
        },
        "id": "PeiIAwByRyvp",
        "outputId": "8c88fc55-d2c1-4f53-8d34-758a117a8c26"
      },
      "execution_count": 11,
      "outputs": [
        {
          "output_type": "execute_result",
          "data": {
            "text/plain": [
              "                                     text\n",
              "category           label data_type       \n",
              "hate_speech        0     test         143\n",
              "                         train       1158\n",
              "                         val          129\n",
              "neither            2     test         416\n",
              "                         train       3372\n",
              "                         val          375\n",
              "offensive_language 1     test        1920\n",
              "                         train      15543\n",
              "                         val         1727"
            ],
            "text/html": [
              "\n",
              "  <div id=\"df-2a6440d3-afe5-47e0-bd80-2ee28f15e618\">\n",
              "    <div class=\"colab-df-container\">\n",
              "      <div>\n",
              "<style scoped>\n",
              "    .dataframe tbody tr th:only-of-type {\n",
              "        vertical-align: middle;\n",
              "    }\n",
              "\n",
              "    .dataframe tbody tr th {\n",
              "        vertical-align: top;\n",
              "    }\n",
              "\n",
              "    .dataframe thead th {\n",
              "        text-align: right;\n",
              "    }\n",
              "</style>\n",
              "<table border=\"1\" class=\"dataframe\">\n",
              "  <thead>\n",
              "    <tr style=\"text-align: right;\">\n",
              "      <th></th>\n",
              "      <th></th>\n",
              "      <th></th>\n",
              "      <th>text</th>\n",
              "    </tr>\n",
              "    <tr>\n",
              "      <th>category</th>\n",
              "      <th>label</th>\n",
              "      <th>data_type</th>\n",
              "      <th></th>\n",
              "    </tr>\n",
              "  </thead>\n",
              "  <tbody>\n",
              "    <tr>\n",
              "      <th rowspan=\"3\" valign=\"top\">hate_speech</th>\n",
              "      <th rowspan=\"3\" valign=\"top\">0</th>\n",
              "      <th>test</th>\n",
              "      <td>143</td>\n",
              "    </tr>\n",
              "    <tr>\n",
              "      <th>train</th>\n",
              "      <td>1158</td>\n",
              "    </tr>\n",
              "    <tr>\n",
              "      <th>val</th>\n",
              "      <td>129</td>\n",
              "    </tr>\n",
              "    <tr>\n",
              "      <th rowspan=\"3\" valign=\"top\">neither</th>\n",
              "      <th rowspan=\"3\" valign=\"top\">2</th>\n",
              "      <th>test</th>\n",
              "      <td>416</td>\n",
              "    </tr>\n",
              "    <tr>\n",
              "      <th>train</th>\n",
              "      <td>3372</td>\n",
              "    </tr>\n",
              "    <tr>\n",
              "      <th>val</th>\n",
              "      <td>375</td>\n",
              "    </tr>\n",
              "    <tr>\n",
              "      <th rowspan=\"3\" valign=\"top\">offensive_language</th>\n",
              "      <th rowspan=\"3\" valign=\"top\">1</th>\n",
              "      <th>test</th>\n",
              "      <td>1920</td>\n",
              "    </tr>\n",
              "    <tr>\n",
              "      <th>train</th>\n",
              "      <td>15543</td>\n",
              "    </tr>\n",
              "    <tr>\n",
              "      <th>val</th>\n",
              "      <td>1727</td>\n",
              "    </tr>\n",
              "  </tbody>\n",
              "</table>\n",
              "</div>\n",
              "      <button class=\"colab-df-convert\" onclick=\"convertToInteractive('df-2a6440d3-afe5-47e0-bd80-2ee28f15e618')\"\n",
              "              title=\"Convert this dataframe to an interactive table.\"\n",
              "              style=\"display:none;\">\n",
              "        \n",
              "  <svg xmlns=\"http://www.w3.org/2000/svg\" height=\"24px\"viewBox=\"0 0 24 24\"\n",
              "       width=\"24px\">\n",
              "    <path d=\"M0 0h24v24H0V0z\" fill=\"none\"/>\n",
              "    <path d=\"M18.56 5.44l.94 2.06.94-2.06 2.06-.94-2.06-.94-.94-2.06-.94 2.06-2.06.94zm-11 1L8.5 8.5l.94-2.06 2.06-.94-2.06-.94L8.5 2.5l-.94 2.06-2.06.94zm10 10l.94 2.06.94-2.06 2.06-.94-2.06-.94-.94-2.06-.94 2.06-2.06.94z\"/><path d=\"M17.41 7.96l-1.37-1.37c-.4-.4-.92-.59-1.43-.59-.52 0-1.04.2-1.43.59L10.3 9.45l-7.72 7.72c-.78.78-.78 2.05 0 2.83L4 21.41c.39.39.9.59 1.41.59.51 0 1.02-.2 1.41-.59l7.78-7.78 2.81-2.81c.8-.78.8-2.07 0-2.86zM5.41 20L4 18.59l7.72-7.72 1.47 1.35L5.41 20z\"/>\n",
              "  </svg>\n",
              "      </button>\n",
              "      \n",
              "  <style>\n",
              "    .colab-df-container {\n",
              "      display:flex;\n",
              "      flex-wrap:wrap;\n",
              "      gap: 12px;\n",
              "    }\n",
              "\n",
              "    .colab-df-convert {\n",
              "      background-color: #E8F0FE;\n",
              "      border: none;\n",
              "      border-radius: 50%;\n",
              "      cursor: pointer;\n",
              "      display: none;\n",
              "      fill: #1967D2;\n",
              "      height: 32px;\n",
              "      padding: 0 0 0 0;\n",
              "      width: 32px;\n",
              "    }\n",
              "\n",
              "    .colab-df-convert:hover {\n",
              "      background-color: #E2EBFA;\n",
              "      box-shadow: 0px 1px 2px rgba(60, 64, 67, 0.3), 0px 1px 3px 1px rgba(60, 64, 67, 0.15);\n",
              "      fill: #174EA6;\n",
              "    }\n",
              "\n",
              "    [theme=dark] .colab-df-convert {\n",
              "      background-color: #3B4455;\n",
              "      fill: #D2E3FC;\n",
              "    }\n",
              "\n",
              "    [theme=dark] .colab-df-convert:hover {\n",
              "      background-color: #434B5C;\n",
              "      box-shadow: 0px 1px 3px 1px rgba(0, 0, 0, 0.15);\n",
              "      filter: drop-shadow(0px 1px 2px rgba(0, 0, 0, 0.3));\n",
              "      fill: #FFFFFF;\n",
              "    }\n",
              "  </style>\n",
              "\n",
              "      <script>\n",
              "        const buttonEl =\n",
              "          document.querySelector('#df-2a6440d3-afe5-47e0-bd80-2ee28f15e618 button.colab-df-convert');\n",
              "        buttonEl.style.display =\n",
              "          google.colab.kernel.accessAllowed ? 'block' : 'none';\n",
              "\n",
              "        async function convertToInteractive(key) {\n",
              "          const element = document.querySelector('#df-2a6440d3-afe5-47e0-bd80-2ee28f15e618');\n",
              "          const dataTable =\n",
              "            await google.colab.kernel.invokeFunction('convertToInteractive',\n",
              "                                                     [key], {});\n",
              "          if (!dataTable) return;\n",
              "\n",
              "          const docLinkHtml = 'Like what you see? Visit the ' +\n",
              "            '<a target=\"_blank\" href=https://colab.research.google.com/notebooks/data_table.ipynb>data table notebook</a>'\n",
              "            + ' to learn more about interactive tables.';\n",
              "          element.innerHTML = '';\n",
              "          dataTable['output_type'] = 'display_data';\n",
              "          await google.colab.output.renderOutput(dataTable, element);\n",
              "          const docLink = document.createElement('div');\n",
              "          docLink.innerHTML = docLinkHtml;\n",
              "          element.appendChild(docLink);\n",
              "        }\n",
              "      </script>\n",
              "    </div>\n",
              "  </div>\n",
              "  "
            ]
          },
          "metadata": {},
          "execution_count": 11
        }
      ]
    },
    {
      "cell_type": "code",
      "source": [
        "df"
      ],
      "metadata": {
        "colab": {
          "base_uri": "https://localhost:8080/",
          "height": 424
        },
        "id": "Fykie1qaR0cR",
        "outputId": "ad4382f7-969c-488a-d176-3a527f6c0602"
      },
      "execution_count": 12,
      "outputs": [
        {
          "output_type": "execute_result",
          "data": {
            "text/plain": [
              "                                                    text            category  \\\n",
              "0      !!! RT @mayasolovely: As a woman you shouldn't...             neither   \n",
              "1      !!!!! RT @mleew17: boy dats cold...tyga dwn ba...  offensive_language   \n",
              "2      !!!!!!! RT @UrKindOfBrand Dawg!!!! RT @80sbaby...  offensive_language   \n",
              "3      !!!!!!!!! RT @C_G_Anderson: @viva_based she lo...  offensive_language   \n",
              "4      !!!!!!!!!!!!! RT @ShenikaRoberts: The shit you...  offensive_language   \n",
              "...                                                  ...                 ...   \n",
              "24778  you's a muthaf***in lie &#8220;@LifeAsKing: @2...  offensive_language   \n",
              "24779  you've gone and broke the wrong heart baby, an...             neither   \n",
              "24780  young buck wanna eat!!.. dat nigguh like I ain...  offensive_language   \n",
              "24781              youu got wild bitches tellin you lies  offensive_language   \n",
              "24782  ~~Ruffled | Ntac Eileen Dahlia - Beautiful col...             neither   \n",
              "\n",
              "       label data_type  \n",
              "0          2      test  \n",
              "1          1     train  \n",
              "2          1     train  \n",
              "3          1     train  \n",
              "4          1     train  \n",
              "...      ...       ...  \n",
              "24778      1     train  \n",
              "24779      2     train  \n",
              "24780      1     train  \n",
              "24781      1     train  \n",
              "24782      2     train  \n",
              "\n",
              "[24783 rows x 4 columns]"
            ],
            "text/html": [
              "\n",
              "  <div id=\"df-f917c4eb-7914-49df-8e6f-f8919b4cd4fe\">\n",
              "    <div class=\"colab-df-container\">\n",
              "      <div>\n",
              "<style scoped>\n",
              "    .dataframe tbody tr th:only-of-type {\n",
              "        vertical-align: middle;\n",
              "    }\n",
              "\n",
              "    .dataframe tbody tr th {\n",
              "        vertical-align: top;\n",
              "    }\n",
              "\n",
              "    .dataframe thead th {\n",
              "        text-align: right;\n",
              "    }\n",
              "</style>\n",
              "<table border=\"1\" class=\"dataframe\">\n",
              "  <thead>\n",
              "    <tr style=\"text-align: right;\">\n",
              "      <th></th>\n",
              "      <th>text</th>\n",
              "      <th>category</th>\n",
              "      <th>label</th>\n",
              "      <th>data_type</th>\n",
              "    </tr>\n",
              "  </thead>\n",
              "  <tbody>\n",
              "    <tr>\n",
              "      <th>0</th>\n",
              "      <td>!!! RT @mayasolovely: As a woman you shouldn't...</td>\n",
              "      <td>neither</td>\n",
              "      <td>2</td>\n",
              "      <td>test</td>\n",
              "    </tr>\n",
              "    <tr>\n",
              "      <th>1</th>\n",
              "      <td>!!!!! RT @mleew17: boy dats cold...tyga dwn ba...</td>\n",
              "      <td>offensive_language</td>\n",
              "      <td>1</td>\n",
              "      <td>train</td>\n",
              "    </tr>\n",
              "    <tr>\n",
              "      <th>2</th>\n",
              "      <td>!!!!!!! RT @UrKindOfBrand Dawg!!!! RT @80sbaby...</td>\n",
              "      <td>offensive_language</td>\n",
              "      <td>1</td>\n",
              "      <td>train</td>\n",
              "    </tr>\n",
              "    <tr>\n",
              "      <th>3</th>\n",
              "      <td>!!!!!!!!! RT @C_G_Anderson: @viva_based she lo...</td>\n",
              "      <td>offensive_language</td>\n",
              "      <td>1</td>\n",
              "      <td>train</td>\n",
              "    </tr>\n",
              "    <tr>\n",
              "      <th>4</th>\n",
              "      <td>!!!!!!!!!!!!! RT @ShenikaRoberts: The shit you...</td>\n",
              "      <td>offensive_language</td>\n",
              "      <td>1</td>\n",
              "      <td>train</td>\n",
              "    </tr>\n",
              "    <tr>\n",
              "      <th>...</th>\n",
              "      <td>...</td>\n",
              "      <td>...</td>\n",
              "      <td>...</td>\n",
              "      <td>...</td>\n",
              "    </tr>\n",
              "    <tr>\n",
              "      <th>24778</th>\n",
              "      <td>you's a muthaf***in lie &amp;#8220;@LifeAsKing: @2...</td>\n",
              "      <td>offensive_language</td>\n",
              "      <td>1</td>\n",
              "      <td>train</td>\n",
              "    </tr>\n",
              "    <tr>\n",
              "      <th>24779</th>\n",
              "      <td>you've gone and broke the wrong heart baby, an...</td>\n",
              "      <td>neither</td>\n",
              "      <td>2</td>\n",
              "      <td>train</td>\n",
              "    </tr>\n",
              "    <tr>\n",
              "      <th>24780</th>\n",
              "      <td>young buck wanna eat!!.. dat nigguh like I ain...</td>\n",
              "      <td>offensive_language</td>\n",
              "      <td>1</td>\n",
              "      <td>train</td>\n",
              "    </tr>\n",
              "    <tr>\n",
              "      <th>24781</th>\n",
              "      <td>youu got wild bitches tellin you lies</td>\n",
              "      <td>offensive_language</td>\n",
              "      <td>1</td>\n",
              "      <td>train</td>\n",
              "    </tr>\n",
              "    <tr>\n",
              "      <th>24782</th>\n",
              "      <td>~~Ruffled | Ntac Eileen Dahlia - Beautiful col...</td>\n",
              "      <td>neither</td>\n",
              "      <td>2</td>\n",
              "      <td>train</td>\n",
              "    </tr>\n",
              "  </tbody>\n",
              "</table>\n",
              "<p>24783 rows × 4 columns</p>\n",
              "</div>\n",
              "      <button class=\"colab-df-convert\" onclick=\"convertToInteractive('df-f917c4eb-7914-49df-8e6f-f8919b4cd4fe')\"\n",
              "              title=\"Convert this dataframe to an interactive table.\"\n",
              "              style=\"display:none;\">\n",
              "        \n",
              "  <svg xmlns=\"http://www.w3.org/2000/svg\" height=\"24px\"viewBox=\"0 0 24 24\"\n",
              "       width=\"24px\">\n",
              "    <path d=\"M0 0h24v24H0V0z\" fill=\"none\"/>\n",
              "    <path d=\"M18.56 5.44l.94 2.06.94-2.06 2.06-.94-2.06-.94-.94-2.06-.94 2.06-2.06.94zm-11 1L8.5 8.5l.94-2.06 2.06-.94-2.06-.94L8.5 2.5l-.94 2.06-2.06.94zm10 10l.94 2.06.94-2.06 2.06-.94-2.06-.94-.94-2.06-.94 2.06-2.06.94z\"/><path d=\"M17.41 7.96l-1.37-1.37c-.4-.4-.92-.59-1.43-.59-.52 0-1.04.2-1.43.59L10.3 9.45l-7.72 7.72c-.78.78-.78 2.05 0 2.83L4 21.41c.39.39.9.59 1.41.59.51 0 1.02-.2 1.41-.59l7.78-7.78 2.81-2.81c.8-.78.8-2.07 0-2.86zM5.41 20L4 18.59l7.72-7.72 1.47 1.35L5.41 20z\"/>\n",
              "  </svg>\n",
              "      </button>\n",
              "      \n",
              "  <style>\n",
              "    .colab-df-container {\n",
              "      display:flex;\n",
              "      flex-wrap:wrap;\n",
              "      gap: 12px;\n",
              "    }\n",
              "\n",
              "    .colab-df-convert {\n",
              "      background-color: #E8F0FE;\n",
              "      border: none;\n",
              "      border-radius: 50%;\n",
              "      cursor: pointer;\n",
              "      display: none;\n",
              "      fill: #1967D2;\n",
              "      height: 32px;\n",
              "      padding: 0 0 0 0;\n",
              "      width: 32px;\n",
              "    }\n",
              "\n",
              "    .colab-df-convert:hover {\n",
              "      background-color: #E2EBFA;\n",
              "      box-shadow: 0px 1px 2px rgba(60, 64, 67, 0.3), 0px 1px 3px 1px rgba(60, 64, 67, 0.15);\n",
              "      fill: #174EA6;\n",
              "    }\n",
              "\n",
              "    [theme=dark] .colab-df-convert {\n",
              "      background-color: #3B4455;\n",
              "      fill: #D2E3FC;\n",
              "    }\n",
              "\n",
              "    [theme=dark] .colab-df-convert:hover {\n",
              "      background-color: #434B5C;\n",
              "      box-shadow: 0px 1px 3px 1px rgba(0, 0, 0, 0.15);\n",
              "      filter: drop-shadow(0px 1px 2px rgba(0, 0, 0, 0.3));\n",
              "      fill: #FFFFFF;\n",
              "    }\n",
              "  </style>\n",
              "\n",
              "      <script>\n",
              "        const buttonEl =\n",
              "          document.querySelector('#df-f917c4eb-7914-49df-8e6f-f8919b4cd4fe button.colab-df-convert');\n",
              "        buttonEl.style.display =\n",
              "          google.colab.kernel.accessAllowed ? 'block' : 'none';\n",
              "\n",
              "        async function convertToInteractive(key) {\n",
              "          const element = document.querySelector('#df-f917c4eb-7914-49df-8e6f-f8919b4cd4fe');\n",
              "          const dataTable =\n",
              "            await google.colab.kernel.invokeFunction('convertToInteractive',\n",
              "                                                     [key], {});\n",
              "          if (!dataTable) return;\n",
              "\n",
              "          const docLinkHtml = 'Like what you see? Visit the ' +\n",
              "            '<a target=\"_blank\" href=https://colab.research.google.com/notebooks/data_table.ipynb>data table notebook</a>'\n",
              "            + ' to learn more about interactive tables.';\n",
              "          element.innerHTML = '';\n",
              "          dataTable['output_type'] = 'display_data';\n",
              "          await google.colab.output.renderOutput(dataTable, element);\n",
              "          const docLink = document.createElement('div');\n",
              "          docLink.innerHTML = docLinkHtml;\n",
              "          element.appendChild(docLink);\n",
              "        }\n",
              "      </script>\n",
              "    </div>\n",
              "  </div>\n",
              "  "
            ]
          },
          "metadata": {},
          "execution_count": 12
        }
      ]
    },
    {
      "cell_type": "markdown",
      "source": [
        "# Oversampling"
      ],
      "metadata": {
        "id": "3Xy6YV54aUrN"
      }
    },
    {
      "cell_type": "code",
      "source": [
        "df_0  = df[df['label'] == 0]\n",
        "df = df.append([df_0]*15,ignore_index=True)\n",
        "\n",
        "df_2  = df[df['label'] == 2]\n",
        "df = df.append([df_2]*5,ignore_index=True)\n",
        "\n",
        "df"
      ],
      "metadata": {
        "colab": {
          "base_uri": "https://localhost:8080/",
          "height": 424
        },
        "id": "xULCr2njaXFo",
        "outputId": "6d6fd312-f50b-41a2-c4ea-ced0b254a1b2"
      },
      "execution_count": 155,
      "outputs": [
        {
          "output_type": "execute_result",
          "data": {
            "text/plain": [
              "                                                    text            category  \\\n",
              "0      !!! RT @mayasolovely: As a woman you shouldn't...             neither   \n",
              "1      !!!!! RT @mleew17: boy dats cold...tyga dwn ba...  offensive_language   \n",
              "2      !!!!!!! RT @UrKindOfBrand Dawg!!!! RT @80sbaby...  offensive_language   \n",
              "3      !!!!!!!!! RT @C_G_Anderson: @viva_based she lo...  offensive_language   \n",
              "4      !!!!!!!!!!!!! RT @ShenikaRoberts: The shit you...  offensive_language   \n",
              "...                                                  ...                 ...   \n",
              "67043  yaya ho.. cute avi tho RT @ViVaLa_Ari I had no...             neither   \n",
              "67044  yea so about @N_tel 's new friend.. all my fri...             neither   \n",
              "67045  you know what they say, the early bird gets th...             neither   \n",
              "67046  you've gone and broke the wrong heart baby, an...             neither   \n",
              "67047  ~~Ruffled | Ntac Eileen Dahlia - Beautiful col...             neither   \n",
              "\n",
              "       label data_type  \n",
              "0          2      test  \n",
              "1          1     train  \n",
              "2          1     train  \n",
              "3          1     train  \n",
              "4          1     train  \n",
              "...      ...       ...  \n",
              "67043      2     train  \n",
              "67044      2       val  \n",
              "67045      2     train  \n",
              "67046      2     train  \n",
              "67047      2     train  \n",
              "\n",
              "[67048 rows x 4 columns]"
            ],
            "text/html": [
              "\n",
              "  <div id=\"df-910a2514-7910-49fb-95a9-9f4b00c585c5\">\n",
              "    <div class=\"colab-df-container\">\n",
              "      <div>\n",
              "<style scoped>\n",
              "    .dataframe tbody tr th:only-of-type {\n",
              "        vertical-align: middle;\n",
              "    }\n",
              "\n",
              "    .dataframe tbody tr th {\n",
              "        vertical-align: top;\n",
              "    }\n",
              "\n",
              "    .dataframe thead th {\n",
              "        text-align: right;\n",
              "    }\n",
              "</style>\n",
              "<table border=\"1\" class=\"dataframe\">\n",
              "  <thead>\n",
              "    <tr style=\"text-align: right;\">\n",
              "      <th></th>\n",
              "      <th>text</th>\n",
              "      <th>category</th>\n",
              "      <th>label</th>\n",
              "      <th>data_type</th>\n",
              "    </tr>\n",
              "  </thead>\n",
              "  <tbody>\n",
              "    <tr>\n",
              "      <th>0</th>\n",
              "      <td>!!! RT @mayasolovely: As a woman you shouldn't...</td>\n",
              "      <td>neither</td>\n",
              "      <td>2</td>\n",
              "      <td>test</td>\n",
              "    </tr>\n",
              "    <tr>\n",
              "      <th>1</th>\n",
              "      <td>!!!!! RT @mleew17: boy dats cold...tyga dwn ba...</td>\n",
              "      <td>offensive_language</td>\n",
              "      <td>1</td>\n",
              "      <td>train</td>\n",
              "    </tr>\n",
              "    <tr>\n",
              "      <th>2</th>\n",
              "      <td>!!!!!!! RT @UrKindOfBrand Dawg!!!! RT @80sbaby...</td>\n",
              "      <td>offensive_language</td>\n",
              "      <td>1</td>\n",
              "      <td>train</td>\n",
              "    </tr>\n",
              "    <tr>\n",
              "      <th>3</th>\n",
              "      <td>!!!!!!!!! RT @C_G_Anderson: @viva_based she lo...</td>\n",
              "      <td>offensive_language</td>\n",
              "      <td>1</td>\n",
              "      <td>train</td>\n",
              "    </tr>\n",
              "    <tr>\n",
              "      <th>4</th>\n",
              "      <td>!!!!!!!!!!!!! RT @ShenikaRoberts: The shit you...</td>\n",
              "      <td>offensive_language</td>\n",
              "      <td>1</td>\n",
              "      <td>train</td>\n",
              "    </tr>\n",
              "    <tr>\n",
              "      <th>...</th>\n",
              "      <td>...</td>\n",
              "      <td>...</td>\n",
              "      <td>...</td>\n",
              "      <td>...</td>\n",
              "    </tr>\n",
              "    <tr>\n",
              "      <th>67043</th>\n",
              "      <td>yaya ho.. cute avi tho RT @ViVaLa_Ari I had no...</td>\n",
              "      <td>neither</td>\n",
              "      <td>2</td>\n",
              "      <td>train</td>\n",
              "    </tr>\n",
              "    <tr>\n",
              "      <th>67044</th>\n",
              "      <td>yea so about @N_tel 's new friend.. all my fri...</td>\n",
              "      <td>neither</td>\n",
              "      <td>2</td>\n",
              "      <td>val</td>\n",
              "    </tr>\n",
              "    <tr>\n",
              "      <th>67045</th>\n",
              "      <td>you know what they say, the early bird gets th...</td>\n",
              "      <td>neither</td>\n",
              "      <td>2</td>\n",
              "      <td>train</td>\n",
              "    </tr>\n",
              "    <tr>\n",
              "      <th>67046</th>\n",
              "      <td>you've gone and broke the wrong heart baby, an...</td>\n",
              "      <td>neither</td>\n",
              "      <td>2</td>\n",
              "      <td>train</td>\n",
              "    </tr>\n",
              "    <tr>\n",
              "      <th>67047</th>\n",
              "      <td>~~Ruffled | Ntac Eileen Dahlia - Beautiful col...</td>\n",
              "      <td>neither</td>\n",
              "      <td>2</td>\n",
              "      <td>train</td>\n",
              "    </tr>\n",
              "  </tbody>\n",
              "</table>\n",
              "<p>67048 rows × 4 columns</p>\n",
              "</div>\n",
              "      <button class=\"colab-df-convert\" onclick=\"convertToInteractive('df-910a2514-7910-49fb-95a9-9f4b00c585c5')\"\n",
              "              title=\"Convert this dataframe to an interactive table.\"\n",
              "              style=\"display:none;\">\n",
              "        \n",
              "  <svg xmlns=\"http://www.w3.org/2000/svg\" height=\"24px\"viewBox=\"0 0 24 24\"\n",
              "       width=\"24px\">\n",
              "    <path d=\"M0 0h24v24H0V0z\" fill=\"none\"/>\n",
              "    <path d=\"M18.56 5.44l.94 2.06.94-2.06 2.06-.94-2.06-.94-.94-2.06-.94 2.06-2.06.94zm-11 1L8.5 8.5l.94-2.06 2.06-.94-2.06-.94L8.5 2.5l-.94 2.06-2.06.94zm10 10l.94 2.06.94-2.06 2.06-.94-2.06-.94-.94-2.06-.94 2.06-2.06.94z\"/><path d=\"M17.41 7.96l-1.37-1.37c-.4-.4-.92-.59-1.43-.59-.52 0-1.04.2-1.43.59L10.3 9.45l-7.72 7.72c-.78.78-.78 2.05 0 2.83L4 21.41c.39.39.9.59 1.41.59.51 0 1.02-.2 1.41-.59l7.78-7.78 2.81-2.81c.8-.78.8-2.07 0-2.86zM5.41 20L4 18.59l7.72-7.72 1.47 1.35L5.41 20z\"/>\n",
              "  </svg>\n",
              "      </button>\n",
              "      \n",
              "  <style>\n",
              "    .colab-df-container {\n",
              "      display:flex;\n",
              "      flex-wrap:wrap;\n",
              "      gap: 12px;\n",
              "    }\n",
              "\n",
              "    .colab-df-convert {\n",
              "      background-color: #E8F0FE;\n",
              "      border: none;\n",
              "      border-radius: 50%;\n",
              "      cursor: pointer;\n",
              "      display: none;\n",
              "      fill: #1967D2;\n",
              "      height: 32px;\n",
              "      padding: 0 0 0 0;\n",
              "      width: 32px;\n",
              "    }\n",
              "\n",
              "    .colab-df-convert:hover {\n",
              "      background-color: #E2EBFA;\n",
              "      box-shadow: 0px 1px 2px rgba(60, 64, 67, 0.3), 0px 1px 3px 1px rgba(60, 64, 67, 0.15);\n",
              "      fill: #174EA6;\n",
              "    }\n",
              "\n",
              "    [theme=dark] .colab-df-convert {\n",
              "      background-color: #3B4455;\n",
              "      fill: #D2E3FC;\n",
              "    }\n",
              "\n",
              "    [theme=dark] .colab-df-convert:hover {\n",
              "      background-color: #434B5C;\n",
              "      box-shadow: 0px 1px 3px 1px rgba(0, 0, 0, 0.15);\n",
              "      filter: drop-shadow(0px 1px 2px rgba(0, 0, 0, 0.3));\n",
              "      fill: #FFFFFF;\n",
              "    }\n",
              "  </style>\n",
              "\n",
              "      <script>\n",
              "        const buttonEl =\n",
              "          document.querySelector('#df-910a2514-7910-49fb-95a9-9f4b00c585c5 button.colab-df-convert');\n",
              "        buttonEl.style.display =\n",
              "          google.colab.kernel.accessAllowed ? 'block' : 'none';\n",
              "\n",
              "        async function convertToInteractive(key) {\n",
              "          const element = document.querySelector('#df-910a2514-7910-49fb-95a9-9f4b00c585c5');\n",
              "          const dataTable =\n",
              "            await google.colab.kernel.invokeFunction('convertToInteractive',\n",
              "                                                     [key], {});\n",
              "          if (!dataTable) return;\n",
              "\n",
              "          const docLinkHtml = 'Like what you see? Visit the ' +\n",
              "            '<a target=\"_blank\" href=https://colab.research.google.com/notebooks/data_table.ipynb>data table notebook</a>'\n",
              "            + ' to learn more about interactive tables.';\n",
              "          element.innerHTML = '';\n",
              "          dataTable['output_type'] = 'display_data';\n",
              "          await google.colab.output.renderOutput(dataTable, element);\n",
              "          const docLink = document.createElement('div');\n",
              "          docLink.innerHTML = docLinkHtml;\n",
              "          element.appendChild(docLink);\n",
              "        }\n",
              "      </script>\n",
              "    </div>\n",
              "  </div>\n",
              "  "
            ]
          },
          "metadata": {},
          "execution_count": 155
        }
      ]
    },
    {
      "cell_type": "code",
      "source": [
        "df.groupby(['category', 'label', 'data_type']).count()"
      ],
      "metadata": {
        "colab": {
          "base_uri": "https://localhost:8080/",
          "height": 363
        },
        "id": "Wzpor4-eabBC",
        "outputId": "c521e436-25e2-4f66-9db6-204c3897a7c0"
      },
      "execution_count": 156,
      "outputs": [
        {
          "output_type": "execute_result",
          "data": {
            "text/plain": [
              "                                     text\n",
              "category           label data_type       \n",
              "hate_speech        0     test        2288\n",
              "                         train      18528\n",
              "                         val         2064\n",
              "neither            2     test        2496\n",
              "                         train      20232\n",
              "                         val         2250\n",
              "offensive_language 1     test        1920\n",
              "                         train      15543\n",
              "                         val         1727"
            ],
            "text/html": [
              "\n",
              "  <div id=\"df-504f413a-cbcd-4ecd-91d3-c310f05b613e\">\n",
              "    <div class=\"colab-df-container\">\n",
              "      <div>\n",
              "<style scoped>\n",
              "    .dataframe tbody tr th:only-of-type {\n",
              "        vertical-align: middle;\n",
              "    }\n",
              "\n",
              "    .dataframe tbody tr th {\n",
              "        vertical-align: top;\n",
              "    }\n",
              "\n",
              "    .dataframe thead th {\n",
              "        text-align: right;\n",
              "    }\n",
              "</style>\n",
              "<table border=\"1\" class=\"dataframe\">\n",
              "  <thead>\n",
              "    <tr style=\"text-align: right;\">\n",
              "      <th></th>\n",
              "      <th></th>\n",
              "      <th></th>\n",
              "      <th>text</th>\n",
              "    </tr>\n",
              "    <tr>\n",
              "      <th>category</th>\n",
              "      <th>label</th>\n",
              "      <th>data_type</th>\n",
              "      <th></th>\n",
              "    </tr>\n",
              "  </thead>\n",
              "  <tbody>\n",
              "    <tr>\n",
              "      <th rowspan=\"3\" valign=\"top\">hate_speech</th>\n",
              "      <th rowspan=\"3\" valign=\"top\">0</th>\n",
              "      <th>test</th>\n",
              "      <td>2288</td>\n",
              "    </tr>\n",
              "    <tr>\n",
              "      <th>train</th>\n",
              "      <td>18528</td>\n",
              "    </tr>\n",
              "    <tr>\n",
              "      <th>val</th>\n",
              "      <td>2064</td>\n",
              "    </tr>\n",
              "    <tr>\n",
              "      <th rowspan=\"3\" valign=\"top\">neither</th>\n",
              "      <th rowspan=\"3\" valign=\"top\">2</th>\n",
              "      <th>test</th>\n",
              "      <td>2496</td>\n",
              "    </tr>\n",
              "    <tr>\n",
              "      <th>train</th>\n",
              "      <td>20232</td>\n",
              "    </tr>\n",
              "    <tr>\n",
              "      <th>val</th>\n",
              "      <td>2250</td>\n",
              "    </tr>\n",
              "    <tr>\n",
              "      <th rowspan=\"3\" valign=\"top\">offensive_language</th>\n",
              "      <th rowspan=\"3\" valign=\"top\">1</th>\n",
              "      <th>test</th>\n",
              "      <td>1920</td>\n",
              "    </tr>\n",
              "    <tr>\n",
              "      <th>train</th>\n",
              "      <td>15543</td>\n",
              "    </tr>\n",
              "    <tr>\n",
              "      <th>val</th>\n",
              "      <td>1727</td>\n",
              "    </tr>\n",
              "  </tbody>\n",
              "</table>\n",
              "</div>\n",
              "      <button class=\"colab-df-convert\" onclick=\"convertToInteractive('df-504f413a-cbcd-4ecd-91d3-c310f05b613e')\"\n",
              "              title=\"Convert this dataframe to an interactive table.\"\n",
              "              style=\"display:none;\">\n",
              "        \n",
              "  <svg xmlns=\"http://www.w3.org/2000/svg\" height=\"24px\"viewBox=\"0 0 24 24\"\n",
              "       width=\"24px\">\n",
              "    <path d=\"M0 0h24v24H0V0z\" fill=\"none\"/>\n",
              "    <path d=\"M18.56 5.44l.94 2.06.94-2.06 2.06-.94-2.06-.94-.94-2.06-.94 2.06-2.06.94zm-11 1L8.5 8.5l.94-2.06 2.06-.94-2.06-.94L8.5 2.5l-.94 2.06-2.06.94zm10 10l.94 2.06.94-2.06 2.06-.94-2.06-.94-.94-2.06-.94 2.06-2.06.94z\"/><path d=\"M17.41 7.96l-1.37-1.37c-.4-.4-.92-.59-1.43-.59-.52 0-1.04.2-1.43.59L10.3 9.45l-7.72 7.72c-.78.78-.78 2.05 0 2.83L4 21.41c.39.39.9.59 1.41.59.51 0 1.02-.2 1.41-.59l7.78-7.78 2.81-2.81c.8-.78.8-2.07 0-2.86zM5.41 20L4 18.59l7.72-7.72 1.47 1.35L5.41 20z\"/>\n",
              "  </svg>\n",
              "      </button>\n",
              "      \n",
              "  <style>\n",
              "    .colab-df-container {\n",
              "      display:flex;\n",
              "      flex-wrap:wrap;\n",
              "      gap: 12px;\n",
              "    }\n",
              "\n",
              "    .colab-df-convert {\n",
              "      background-color: #E8F0FE;\n",
              "      border: none;\n",
              "      border-radius: 50%;\n",
              "      cursor: pointer;\n",
              "      display: none;\n",
              "      fill: #1967D2;\n",
              "      height: 32px;\n",
              "      padding: 0 0 0 0;\n",
              "      width: 32px;\n",
              "    }\n",
              "\n",
              "    .colab-df-convert:hover {\n",
              "      background-color: #E2EBFA;\n",
              "      box-shadow: 0px 1px 2px rgba(60, 64, 67, 0.3), 0px 1px 3px 1px rgba(60, 64, 67, 0.15);\n",
              "      fill: #174EA6;\n",
              "    }\n",
              "\n",
              "    [theme=dark] .colab-df-convert {\n",
              "      background-color: #3B4455;\n",
              "      fill: #D2E3FC;\n",
              "    }\n",
              "\n",
              "    [theme=dark] .colab-df-convert:hover {\n",
              "      background-color: #434B5C;\n",
              "      box-shadow: 0px 1px 3px 1px rgba(0, 0, 0, 0.15);\n",
              "      filter: drop-shadow(0px 1px 2px rgba(0, 0, 0, 0.3));\n",
              "      fill: #FFFFFF;\n",
              "    }\n",
              "  </style>\n",
              "\n",
              "      <script>\n",
              "        const buttonEl =\n",
              "          document.querySelector('#df-504f413a-cbcd-4ecd-91d3-c310f05b613e button.colab-df-convert');\n",
              "        buttonEl.style.display =\n",
              "          google.colab.kernel.accessAllowed ? 'block' : 'none';\n",
              "\n",
              "        async function convertToInteractive(key) {\n",
              "          const element = document.querySelector('#df-504f413a-cbcd-4ecd-91d3-c310f05b613e');\n",
              "          const dataTable =\n",
              "            await google.colab.kernel.invokeFunction('convertToInteractive',\n",
              "                                                     [key], {});\n",
              "          if (!dataTable) return;\n",
              "\n",
              "          const docLinkHtml = 'Like what you see? Visit the ' +\n",
              "            '<a target=\"_blank\" href=https://colab.research.google.com/notebooks/data_table.ipynb>data table notebook</a>'\n",
              "            + ' to learn more about interactive tables.';\n",
              "          element.innerHTML = '';\n",
              "          dataTable['output_type'] = 'display_data';\n",
              "          await google.colab.output.renderOutput(dataTable, element);\n",
              "          const docLink = document.createElement('div');\n",
              "          docLink.innerHTML = docLinkHtml;\n",
              "          element.appendChild(docLink);\n",
              "        }\n",
              "      </script>\n",
              "    </div>\n",
              "  </div>\n",
              "  "
            ]
          },
          "metadata": {},
          "execution_count": 156
        }
      ]
    },
    {
      "cell_type": "code",
      "source": [
        "hate, ofensive, neither = np.bincount(df['label'])\n",
        "total = hate + ofensive + neither\n",
        "print('Examples:\\n    Total: {}\\n    hate: {} ({:.2f}% of total)\\n'.format(\n",
        "    total, hate, 100 * hate / total))\n",
        "print('Examples:\\n    Total: {}\\n    Ofensive: {} ({:.2f}% of total)\\n'.format(\n",
        "    total, ofensive, 100 * ofensive / total))\n",
        "print('Examples:\\n    Total: {}\\n    Neither: {} ({:.2f}% of total)\\n'.format(\n",
        "    total, neither, 100 * neither / total))"
      ],
      "metadata": {
        "colab": {
          "base_uri": "https://localhost:8080/"
        },
        "id": "qaC53M56O1nj",
        "outputId": "75013445-1ed8-40aa-e3c2-4e388d097ba4"
      },
      "execution_count": 218,
      "outputs": [
        {
          "output_type": "stream",
          "name": "stdout",
          "text": [
            "Examples:\n",
            "    Total: 67048\n",
            "    hate: 22880 (34.12% of total)\n",
            "\n",
            "Examples:\n",
            "    Total: 67048\n",
            "    Ofensive: 19190 (28.62% of total)\n",
            "\n",
            "Examples:\n",
            "    Total: 67048\n",
            "    Neither: 24978 (37.25% of total)\n",
            "\n"
          ]
        }
      ]
    },
    {
      "cell_type": "markdown",
      "source": [
        "# Train/Test Division\n"
      ],
      "metadata": {
        "id": "lrifVzxMtyp6"
      }
    },
    {
      "cell_type": "code",
      "source": [
        "df_train = df.loc[df[\"data_type\"]==\"train\"]\n",
        "df_val = df.loc[df[\"data_type\"]==\"val\"]\n",
        "df_test = df.loc[df[\"data_type\"]==\"test\"]\n",
        "\n",
        "df_train.head()"
      ],
      "metadata": {
        "colab": {
          "base_uri": "https://localhost:8080/",
          "height": 206
        },
        "id": "hKfRRj7AR13z",
        "outputId": "797dbab1-3c7e-4816-edcd-09a0444ea2a5"
      },
      "execution_count": 13,
      "outputs": [
        {
          "output_type": "execute_result",
          "data": {
            "text/plain": [
              "                                                text            category  \\\n",
              "1  !!!!! RT @mleew17: boy dats cold...tyga dwn ba...  offensive_language   \n",
              "2  !!!!!!! RT @UrKindOfBrand Dawg!!!! RT @80sbaby...  offensive_language   \n",
              "3  !!!!!!!!! RT @C_G_Anderson: @viva_based she lo...  offensive_language   \n",
              "4  !!!!!!!!!!!!! RT @ShenikaRoberts: The shit you...  offensive_language   \n",
              "6  !!!!!!\"@__BrighterDays: I can not just sit up ...  offensive_language   \n",
              "\n",
              "   label data_type  \n",
              "1      1     train  \n",
              "2      1     train  \n",
              "3      1     train  \n",
              "4      1     train  \n",
              "6      1     train  "
            ],
            "text/html": [
              "\n",
              "  <div id=\"df-23783302-5f4b-49f0-8361-14efab78906b\">\n",
              "    <div class=\"colab-df-container\">\n",
              "      <div>\n",
              "<style scoped>\n",
              "    .dataframe tbody tr th:only-of-type {\n",
              "        vertical-align: middle;\n",
              "    }\n",
              "\n",
              "    .dataframe tbody tr th {\n",
              "        vertical-align: top;\n",
              "    }\n",
              "\n",
              "    .dataframe thead th {\n",
              "        text-align: right;\n",
              "    }\n",
              "</style>\n",
              "<table border=\"1\" class=\"dataframe\">\n",
              "  <thead>\n",
              "    <tr style=\"text-align: right;\">\n",
              "      <th></th>\n",
              "      <th>text</th>\n",
              "      <th>category</th>\n",
              "      <th>label</th>\n",
              "      <th>data_type</th>\n",
              "    </tr>\n",
              "  </thead>\n",
              "  <tbody>\n",
              "    <tr>\n",
              "      <th>1</th>\n",
              "      <td>!!!!! RT @mleew17: boy dats cold...tyga dwn ba...</td>\n",
              "      <td>offensive_language</td>\n",
              "      <td>1</td>\n",
              "      <td>train</td>\n",
              "    </tr>\n",
              "    <tr>\n",
              "      <th>2</th>\n",
              "      <td>!!!!!!! RT @UrKindOfBrand Dawg!!!! RT @80sbaby...</td>\n",
              "      <td>offensive_language</td>\n",
              "      <td>1</td>\n",
              "      <td>train</td>\n",
              "    </tr>\n",
              "    <tr>\n",
              "      <th>3</th>\n",
              "      <td>!!!!!!!!! RT @C_G_Anderson: @viva_based she lo...</td>\n",
              "      <td>offensive_language</td>\n",
              "      <td>1</td>\n",
              "      <td>train</td>\n",
              "    </tr>\n",
              "    <tr>\n",
              "      <th>4</th>\n",
              "      <td>!!!!!!!!!!!!! RT @ShenikaRoberts: The shit you...</td>\n",
              "      <td>offensive_language</td>\n",
              "      <td>1</td>\n",
              "      <td>train</td>\n",
              "    </tr>\n",
              "    <tr>\n",
              "      <th>6</th>\n",
              "      <td>!!!!!!\"@__BrighterDays: I can not just sit up ...</td>\n",
              "      <td>offensive_language</td>\n",
              "      <td>1</td>\n",
              "      <td>train</td>\n",
              "    </tr>\n",
              "  </tbody>\n",
              "</table>\n",
              "</div>\n",
              "      <button class=\"colab-df-convert\" onclick=\"convertToInteractive('df-23783302-5f4b-49f0-8361-14efab78906b')\"\n",
              "              title=\"Convert this dataframe to an interactive table.\"\n",
              "              style=\"display:none;\">\n",
              "        \n",
              "  <svg xmlns=\"http://www.w3.org/2000/svg\" height=\"24px\"viewBox=\"0 0 24 24\"\n",
              "       width=\"24px\">\n",
              "    <path d=\"M0 0h24v24H0V0z\" fill=\"none\"/>\n",
              "    <path d=\"M18.56 5.44l.94 2.06.94-2.06 2.06-.94-2.06-.94-.94-2.06-.94 2.06-2.06.94zm-11 1L8.5 8.5l.94-2.06 2.06-.94-2.06-.94L8.5 2.5l-.94 2.06-2.06.94zm10 10l.94 2.06.94-2.06 2.06-.94-2.06-.94-.94-2.06-.94 2.06-2.06.94z\"/><path d=\"M17.41 7.96l-1.37-1.37c-.4-.4-.92-.59-1.43-.59-.52 0-1.04.2-1.43.59L10.3 9.45l-7.72 7.72c-.78.78-.78 2.05 0 2.83L4 21.41c.39.39.9.59 1.41.59.51 0 1.02-.2 1.41-.59l7.78-7.78 2.81-2.81c.8-.78.8-2.07 0-2.86zM5.41 20L4 18.59l7.72-7.72 1.47 1.35L5.41 20z\"/>\n",
              "  </svg>\n",
              "      </button>\n",
              "      \n",
              "  <style>\n",
              "    .colab-df-container {\n",
              "      display:flex;\n",
              "      flex-wrap:wrap;\n",
              "      gap: 12px;\n",
              "    }\n",
              "\n",
              "    .colab-df-convert {\n",
              "      background-color: #E8F0FE;\n",
              "      border: none;\n",
              "      border-radius: 50%;\n",
              "      cursor: pointer;\n",
              "      display: none;\n",
              "      fill: #1967D2;\n",
              "      height: 32px;\n",
              "      padding: 0 0 0 0;\n",
              "      width: 32px;\n",
              "    }\n",
              "\n",
              "    .colab-df-convert:hover {\n",
              "      background-color: #E2EBFA;\n",
              "      box-shadow: 0px 1px 2px rgba(60, 64, 67, 0.3), 0px 1px 3px 1px rgba(60, 64, 67, 0.15);\n",
              "      fill: #174EA6;\n",
              "    }\n",
              "\n",
              "    [theme=dark] .colab-df-convert {\n",
              "      background-color: #3B4455;\n",
              "      fill: #D2E3FC;\n",
              "    }\n",
              "\n",
              "    [theme=dark] .colab-df-convert:hover {\n",
              "      background-color: #434B5C;\n",
              "      box-shadow: 0px 1px 3px 1px rgba(0, 0, 0, 0.15);\n",
              "      filter: drop-shadow(0px 1px 2px rgba(0, 0, 0, 0.3));\n",
              "      fill: #FFFFFF;\n",
              "    }\n",
              "  </style>\n",
              "\n",
              "      <script>\n",
              "        const buttonEl =\n",
              "          document.querySelector('#df-23783302-5f4b-49f0-8361-14efab78906b button.colab-df-convert');\n",
              "        buttonEl.style.display =\n",
              "          google.colab.kernel.accessAllowed ? 'block' : 'none';\n",
              "\n",
              "        async function convertToInteractive(key) {\n",
              "          const element = document.querySelector('#df-23783302-5f4b-49f0-8361-14efab78906b');\n",
              "          const dataTable =\n",
              "            await google.colab.kernel.invokeFunction('convertToInteractive',\n",
              "                                                     [key], {});\n",
              "          if (!dataTable) return;\n",
              "\n",
              "          const docLinkHtml = 'Like what you see? Visit the ' +\n",
              "            '<a target=\"_blank\" href=https://colab.research.google.com/notebooks/data_table.ipynb>data table notebook</a>'\n",
              "            + ' to learn more about interactive tables.';\n",
              "          element.innerHTML = '';\n",
              "          dataTable['output_type'] = 'display_data';\n",
              "          await google.colab.output.renderOutput(dataTable, element);\n",
              "          const docLink = document.createElement('div');\n",
              "          docLink.innerHTML = docLinkHtml;\n",
              "          element.appendChild(docLink);\n",
              "        }\n",
              "      </script>\n",
              "    </div>\n",
              "  </div>\n",
              "  "
            ]
          },
          "metadata": {},
          "execution_count": 13
        }
      ]
    },
    {
      "cell_type": "code",
      "source": [
        "df_train_plus_val = pd.concat([df_train,df_val], axis=0)\n",
        "df_train_plus_val.head()"
      ],
      "metadata": {
        "colab": {
          "base_uri": "https://localhost:8080/",
          "height": 206
        },
        "id": "s3-yyVIfR3gL",
        "outputId": "a30ff5c0-2fab-4046-e79a-d18e3e60a720"
      },
      "execution_count": 14,
      "outputs": [
        {
          "output_type": "execute_result",
          "data": {
            "text/plain": [
              "                                                text            category  \\\n",
              "1  !!!!! RT @mleew17: boy dats cold...tyga dwn ba...  offensive_language   \n",
              "2  !!!!!!! RT @UrKindOfBrand Dawg!!!! RT @80sbaby...  offensive_language   \n",
              "3  !!!!!!!!! RT @C_G_Anderson: @viva_based she lo...  offensive_language   \n",
              "4  !!!!!!!!!!!!! RT @ShenikaRoberts: The shit you...  offensive_language   \n",
              "6  !!!!!!\"@__BrighterDays: I can not just sit up ...  offensive_language   \n",
              "\n",
              "   label data_type  \n",
              "1      1     train  \n",
              "2      1     train  \n",
              "3      1     train  \n",
              "4      1     train  \n",
              "6      1     train  "
            ],
            "text/html": [
              "\n",
              "  <div id=\"df-956cc0c7-ec6f-477c-ab84-4975a17af540\">\n",
              "    <div class=\"colab-df-container\">\n",
              "      <div>\n",
              "<style scoped>\n",
              "    .dataframe tbody tr th:only-of-type {\n",
              "        vertical-align: middle;\n",
              "    }\n",
              "\n",
              "    .dataframe tbody tr th {\n",
              "        vertical-align: top;\n",
              "    }\n",
              "\n",
              "    .dataframe thead th {\n",
              "        text-align: right;\n",
              "    }\n",
              "</style>\n",
              "<table border=\"1\" class=\"dataframe\">\n",
              "  <thead>\n",
              "    <tr style=\"text-align: right;\">\n",
              "      <th></th>\n",
              "      <th>text</th>\n",
              "      <th>category</th>\n",
              "      <th>label</th>\n",
              "      <th>data_type</th>\n",
              "    </tr>\n",
              "  </thead>\n",
              "  <tbody>\n",
              "    <tr>\n",
              "      <th>1</th>\n",
              "      <td>!!!!! RT @mleew17: boy dats cold...tyga dwn ba...</td>\n",
              "      <td>offensive_language</td>\n",
              "      <td>1</td>\n",
              "      <td>train</td>\n",
              "    </tr>\n",
              "    <tr>\n",
              "      <th>2</th>\n",
              "      <td>!!!!!!! RT @UrKindOfBrand Dawg!!!! RT @80sbaby...</td>\n",
              "      <td>offensive_language</td>\n",
              "      <td>1</td>\n",
              "      <td>train</td>\n",
              "    </tr>\n",
              "    <tr>\n",
              "      <th>3</th>\n",
              "      <td>!!!!!!!!! RT @C_G_Anderson: @viva_based she lo...</td>\n",
              "      <td>offensive_language</td>\n",
              "      <td>1</td>\n",
              "      <td>train</td>\n",
              "    </tr>\n",
              "    <tr>\n",
              "      <th>4</th>\n",
              "      <td>!!!!!!!!!!!!! RT @ShenikaRoberts: The shit you...</td>\n",
              "      <td>offensive_language</td>\n",
              "      <td>1</td>\n",
              "      <td>train</td>\n",
              "    </tr>\n",
              "    <tr>\n",
              "      <th>6</th>\n",
              "      <td>!!!!!!\"@__BrighterDays: I can not just sit up ...</td>\n",
              "      <td>offensive_language</td>\n",
              "      <td>1</td>\n",
              "      <td>train</td>\n",
              "    </tr>\n",
              "  </tbody>\n",
              "</table>\n",
              "</div>\n",
              "      <button class=\"colab-df-convert\" onclick=\"convertToInteractive('df-956cc0c7-ec6f-477c-ab84-4975a17af540')\"\n",
              "              title=\"Convert this dataframe to an interactive table.\"\n",
              "              style=\"display:none;\">\n",
              "        \n",
              "  <svg xmlns=\"http://www.w3.org/2000/svg\" height=\"24px\"viewBox=\"0 0 24 24\"\n",
              "       width=\"24px\">\n",
              "    <path d=\"M0 0h24v24H0V0z\" fill=\"none\"/>\n",
              "    <path d=\"M18.56 5.44l.94 2.06.94-2.06 2.06-.94-2.06-.94-.94-2.06-.94 2.06-2.06.94zm-11 1L8.5 8.5l.94-2.06 2.06-.94-2.06-.94L8.5 2.5l-.94 2.06-2.06.94zm10 10l.94 2.06.94-2.06 2.06-.94-2.06-.94-.94-2.06-.94 2.06-2.06.94z\"/><path d=\"M17.41 7.96l-1.37-1.37c-.4-.4-.92-.59-1.43-.59-.52 0-1.04.2-1.43.59L10.3 9.45l-7.72 7.72c-.78.78-.78 2.05 0 2.83L4 21.41c.39.39.9.59 1.41.59.51 0 1.02-.2 1.41-.59l7.78-7.78 2.81-2.81c.8-.78.8-2.07 0-2.86zM5.41 20L4 18.59l7.72-7.72 1.47 1.35L5.41 20z\"/>\n",
              "  </svg>\n",
              "      </button>\n",
              "      \n",
              "  <style>\n",
              "    .colab-df-container {\n",
              "      display:flex;\n",
              "      flex-wrap:wrap;\n",
              "      gap: 12px;\n",
              "    }\n",
              "\n",
              "    .colab-df-convert {\n",
              "      background-color: #E8F0FE;\n",
              "      border: none;\n",
              "      border-radius: 50%;\n",
              "      cursor: pointer;\n",
              "      display: none;\n",
              "      fill: #1967D2;\n",
              "      height: 32px;\n",
              "      padding: 0 0 0 0;\n",
              "      width: 32px;\n",
              "    }\n",
              "\n",
              "    .colab-df-convert:hover {\n",
              "      background-color: #E2EBFA;\n",
              "      box-shadow: 0px 1px 2px rgba(60, 64, 67, 0.3), 0px 1px 3px 1px rgba(60, 64, 67, 0.15);\n",
              "      fill: #174EA6;\n",
              "    }\n",
              "\n",
              "    [theme=dark] .colab-df-convert {\n",
              "      background-color: #3B4455;\n",
              "      fill: #D2E3FC;\n",
              "    }\n",
              "\n",
              "    [theme=dark] .colab-df-convert:hover {\n",
              "      background-color: #434B5C;\n",
              "      box-shadow: 0px 1px 3px 1px rgba(0, 0, 0, 0.15);\n",
              "      filter: drop-shadow(0px 1px 2px rgba(0, 0, 0, 0.3));\n",
              "      fill: #FFFFFF;\n",
              "    }\n",
              "  </style>\n",
              "\n",
              "      <script>\n",
              "        const buttonEl =\n",
              "          document.querySelector('#df-956cc0c7-ec6f-477c-ab84-4975a17af540 button.colab-df-convert');\n",
              "        buttonEl.style.display =\n",
              "          google.colab.kernel.accessAllowed ? 'block' : 'none';\n",
              "\n",
              "        async function convertToInteractive(key) {\n",
              "          const element = document.querySelector('#df-956cc0c7-ec6f-477c-ab84-4975a17af540');\n",
              "          const dataTable =\n",
              "            await google.colab.kernel.invokeFunction('convertToInteractive',\n",
              "                                                     [key], {});\n",
              "          if (!dataTable) return;\n",
              "\n",
              "          const docLinkHtml = 'Like what you see? Visit the ' +\n",
              "            '<a target=\"_blank\" href=https://colab.research.google.com/notebooks/data_table.ipynb>data table notebook</a>'\n",
              "            + ' to learn more about interactive tables.';\n",
              "          element.innerHTML = '';\n",
              "          dataTable['output_type'] = 'display_data';\n",
              "          await google.colab.output.renderOutput(dataTable, element);\n",
              "          const docLink = document.createElement('div');\n",
              "          docLink.innerHTML = docLinkHtml;\n",
              "          element.appendChild(docLink);\n",
              "        }\n",
              "      </script>\n",
              "    </div>\n",
              "  </div>\n",
              "  "
            ]
          },
          "metadata": {},
          "execution_count": 14
        }
      ]
    },
    {
      "cell_type": "code",
      "source": [
        "x = df_train_plus_val.text.values\n",
        "y = df_train_plus_val.label.values\n",
        "\n",
        "max_features = 20000\n",
        "max_text_length = 256\n",
        "\n",
        "x_tokenizer = text.Tokenizer(max_features)\n",
        "x_tokenizer.fit_on_texts(list(x))\n",
        "\n",
        "x_tokenized = x_tokenizer.texts_to_sequences(x)\n",
        "x_train_val= sequence.pad_sequences(x_tokenized, maxlen=max_text_length)\n",
        "\n",
        "x_test_tokenized = x_tokenizer.texts_to_sequences(df_test.text.values)\n",
        "x_test = sequence.pad_sequences(x_test_tokenized,maxlen=max_text_length)"
      ],
      "metadata": {
        "id": "EcuArTAcR5C2"
      },
      "execution_count": 15,
      "outputs": []
    },
    {
      "cell_type": "code",
      "source": [
        "embedding_dim =100\n",
        "embeddings_index = dict()\n",
        "f = open('/content/drive/Shareddrives/Shared Dataset/Hate-Speech-Twitter/glove.6B.100d.txt')\n",
        "for line in f:\n",
        "    values = line.split()\n",
        "    word = values[0]\n",
        "    coefs = np.asarray(values[1:],dtype='float32')\n",
        "    embeddings_index[word]= coefs\n",
        "f.close()\n",
        "print(f'Found {len(embeddings_index)} word vectors')\n",
        "\n",
        "embedding_matrix= np.zeros((max_features,embedding_dim))\n",
        "for word, index in x_tokenizer.word_index.items():\n",
        "    if index>max_features-1:\n",
        "        break\n",
        "    else:\n",
        "        embedding_vector = embeddings_index.get(word)\n",
        "        if embedding_vector is not None:\n",
        "            embedding_matrix[index]= embedding_vector"
      ],
      "metadata": {
        "colab": {
          "base_uri": "https://localhost:8080/"
        },
        "id": "by2XLGUISBBK",
        "outputId": "e6d3d50e-3c00-4542-e676-614a8ac25f6f"
      },
      "execution_count": 16,
      "outputs": [
        {
          "output_type": "stream",
          "name": "stdout",
          "text": [
            "Found 400000 word vectors\n"
          ]
        }
      ]
    },
    {
      "cell_type": "code",
      "source": [
        "y_train_plus_val =  tf.keras.utils.to_categorical(y, num_classes=3)\n",
        "y_test =  tf.keras.utils.to_categorical(df_test.label, num_classes=3)\n",
        "y_train_plus_val"
      ],
      "metadata": {
        "colab": {
          "base_uri": "https://localhost:8080/"
        },
        "id": "12h4MANxVIr8",
        "outputId": "98e7f311-aae9-40d2-d9e0-24b2ceb041a8"
      },
      "execution_count": 17,
      "outputs": [
        {
          "output_type": "execute_result",
          "data": {
            "text/plain": [
              "array([[0., 1., 0.],\n",
              "       [0., 1., 0.],\n",
              "       [0., 1., 0.],\n",
              "       ...,\n",
              "       [0., 0., 1.],\n",
              "       [0., 1., 0.],\n",
              "       [0., 1., 0.]], dtype=float32)"
            ]
          },
          "metadata": {},
          "execution_count": 17
        }
      ]
    },
    {
      "cell_type": "markdown",
      "source": [
        "# Class Weights\n"
      ],
      "metadata": {
        "id": "VKMzc32vvhoD"
      }
    },
    {
      "cell_type": "code",
      "source": [
        "weight_for_0 = (1 / hate)*(total)/3.0 \n",
        "weight_for_1 = (1 / ofensive)*(total)/3.0\n",
        "weight_for_2 = (1 / neither)*(total)/3.0\n",
        "\n",
        "\n",
        "class_weight = {0: weight_for_0, 1: weight_for_1, 2: weight_for_2}\n",
        "\n",
        "print('Weight for class 0: {:.2f}'.format(weight_for_0))\n",
        "print('Weight for class 1: {:.2f}'.format(weight_for_1))\n",
        "print('Weight for class 2: {:.2f}'.format(weight_for_2))"
      ],
      "metadata": {
        "colab": {
          "base_uri": "https://localhost:8080/"
        },
        "id": "ic1w9MXivjj6",
        "outputId": "e9b6797b-bf54-437b-8e6e-14fd6c9d851e"
      },
      "execution_count": 18,
      "outputs": [
        {
          "output_type": "stream",
          "name": "stdout",
          "text": [
            "Weight for class 0: 5.78\n",
            "Weight for class 1: 0.43\n",
            "Weight for class 2: 1.98\n"
          ]
        }
      ]
    },
    {
      "cell_type": "markdown",
      "source": [
        "# Output Bias"
      ],
      "metadata": {
        "id": "jfvrw9cavrhj"
      }
    },
    {
      "cell_type": "code",
      "source": [
        "initial_output_bias = np.array([2, 15, 5.])\n",
        "initial_output_bias "
      ],
      "metadata": {
        "colab": {
          "base_uri": "https://localhost:8080/"
        },
        "id": "73V081ZKvtt0",
        "outputId": "811cb585-9046-4c26-8515-ef68a38e2999"
      },
      "execution_count": 19,
      "outputs": [
        {
          "output_type": "execute_result",
          "data": {
            "text/plain": [
              "array([ 2., 15.,  5.])"
            ]
          },
          "metadata": {},
          "execution_count": 19
        }
      ]
    },
    {
      "cell_type": "code",
      "source": [
        "output_bias = tf.keras.initializers.Constant(initial_output_bias)\n",
        "output_bias"
      ],
      "metadata": {
        "colab": {
          "base_uri": "https://localhost:8080/"
        },
        "id": "0mQqsFpCv4YP",
        "outputId": "e9ddf44f-9939-4cf7-8f8c-a7bc9615e1f5"
      },
      "execution_count": 20,
      "outputs": [
        {
          "output_type": "execute_result",
          "data": {
            "text/plain": [
              "<keras.initializers.initializers_v2.Constant at 0x7f5093d35c10>"
            ]
          },
          "metadata": {},
          "execution_count": 20
        }
      ]
    },
    {
      "cell_type": "markdown",
      "source": [
        "# CNN\n"
      ],
      "metadata": {
        "id": "oKxrQ33Uvvfp"
      }
    },
    {
      "cell_type": "code",
      "source": [
        "model = Sequential()\n",
        "model.add(Embedding(max_features,\n",
        "                    embedding_dim,\n",
        "                    embeddings_initializer=tf.keras.initializers.Constant(embedding_matrix),\n",
        "                    trainable=False))\n",
        "\n",
        "model.add(Dropout(0.2))\n",
        "\n",
        "model.add(Conv1D(64,2,padding='valid',activation='relu'))\n",
        "model.add(MaxPooling1D())\n",
        "model.add(Conv1D(64,2,padding='valid',activation='relu'))\n",
        "model.add(MaxPooling1D())\n",
        "\n",
        "model.add(Conv1D(32,2,padding='valid',activation='relu'))\n",
        "model.add(MaxPooling1D())\n",
        "model.add(Conv1D(32,2,padding='valid',activation='relu'))\n",
        "model.add(GlobalMaxPooling1D())\n",
        "\n",
        "model.add(Dense(16, activation='relu'))     \n",
        "model.add(Dropout(0.2))\n",
        "model.add(Dense(16, activation='relu'))\n",
        "model.add(Dropout(0.2))\n",
        "\n",
        "model.add(Dense(3, activation='softmax'))\n",
        "#model.summary() "
      ],
      "metadata": {
        "id": "_Zk-vXXLVKo8"
      },
      "execution_count": 21,
      "outputs": []
    },
    {
      "cell_type": "code",
      "source": [
        "tf.keras.utils.plot_model(model)"
      ],
      "metadata": {
        "colab": {
          "base_uri": "https://localhost:8080/",
          "height": 1000
        },
        "id": "lTEcsjpNPPfu",
        "outputId": "5b1db1bb-4369-4875-8088-a592f5d9ecab"
      },
      "execution_count": 25,
      "outputs": [
        {
          "output_type": "execute_result",
          "data": {
            "text/plain": [
              "<IPython.core.display.Image object>"
            ],
            "image/png": "[encoded data removed]"
          },
          "metadata": {},
          "execution_count": 25
        }
      ]
    },
    {
      "cell_type": "markdown",
      "source": [
        "# CNN - Bias"
      ],
      "metadata": {
        "id": "sbayEikrwBKg"
      }
    },
    {
      "cell_type": "code",
      "source": [
        "model = Sequential()\n",
        "model.add(Embedding(max_features,\n",
        "                    embedding_dim,\n",
        "                    embeddings_initializer=tf.keras.initializers.Constant(embedding_matrix),\n",
        "                    trainable=False))\n",
        "\n",
        "model.add(Dropout(0.3))\n",
        "\n",
        "model.add(Conv1D(64,2,padding='valid',activation='relu'))\n",
        "model.add(MaxPooling1D())\n",
        "model.add(Conv1D(64,2,padding='valid',activation='relu'))\n",
        "model.add(MaxPooling1D())\n",
        "\n",
        "model.add(Conv1D(64,2,padding='valid',activation='relu'))\n",
        "model.add(MaxPooling1D())\n",
        "model.add(Conv1D(64,2,padding='valid',activation='relu'))\n",
        "model.add(MaxPooling1D())\n",
        "\n",
        "model.add(Conv1D(32,2,padding='valid',activation='relu'))\n",
        "model.add(MaxPooling1D())\n",
        "model.add(Conv1D(32,2,padding='valid',activation='relu'))\n",
        "model.add(GlobalMaxPooling1D())\n",
        "\n",
        "model.add(Dense(256, activation='relu'))\n",
        "model.add(Dropout(0.5))\n",
        "model.add(Dense(256, activation='relu'))\n",
        "model.add(Dropout(0.5))\n",
        "\n",
        "model.add(Dense(16, activation='relu'))\n",
        "model.add(Dropout(0.4))\n",
        "model.add(Dense(16, activation='relu'))\n",
        "model.add(Dropout(0.4))\n",
        "\n",
        "model.add(Dense(3, activation='softmax', bias_initializer=output_bias))\n",
        "#model.summary()"
      ],
      "metadata": {
        "id": "bSwj2xtMwDOk"
      },
      "execution_count": 377,
      "outputs": []
    },
    {
      "cell_type": "markdown",
      "source": [
        "# Compile"
      ],
      "metadata": {
        "id": "7lXnw5pj8onF"
      }
    },
    {
      "cell_type": "code",
      "source": [
        "model.compile(loss='categorical_crossentropy',optimizer='adam',metrics=['accuracy'])"
      ],
      "metadata": {
        "id": "r_3E94FWVN3s"
      },
      "execution_count": 23,
      "outputs": []
    },
    {
      "cell_type": "code",
      "source": [
        "model.save(\"CNN.h5\")"
      ],
      "metadata": {
        "id": "n_MMVf5rPYI3"
      },
      "execution_count": 24,
      "outputs": []
    },
    {
      "cell_type": "markdown",
      "source": [
        "# Training Info"
      ],
      "metadata": {
        "id": "AhJoOaQEwtqv"
      }
    },
    {
      "cell_type": "markdown",
      "source": [
        "Train 1"
      ],
      "metadata": {
        "id": "_6wX2Sh7amZ6"
      }
    },
    {
      "cell_type": "code",
      "source": [
        "history = model.fit(x_train_val, y_train_plus_val, batch_size= 64, validation_split=0.2, epochs=5)"
      ],
      "metadata": {
        "colab": {
          "base_uri": "https://localhost:8080/"
        },
        "id": "s87vePDpVSH0",
        "outputId": "31f4a892-57c6-44fa-98d7-c10c72c244a6"
      },
      "execution_count": 30,
      "outputs": [
        {
          "output_type": "stream",
          "name": "stdout",
          "text": [
            "Epoch 1/5\n",
            "279/279 [==============================] - 14s 8ms/step - loss: 0.6163 - accuracy: 0.7839 - val_loss: 0.4440 - val_accuracy: 0.8375\n",
            "Epoch 2/5\n",
            "279/279 [==============================] - 2s 7ms/step - loss: 0.4617 - accuracy: 0.8365 - val_loss: 0.4034 - val_accuracy: 0.8570\n",
            "Epoch 3/5\n",
            "279/279 [==============================] - 2s 6ms/step - loss: 0.4253 - accuracy: 0.8501 - val_loss: 0.3855 - val_accuracy: 0.8628\n",
            "Epoch 4/5\n",
            "279/279 [==============================] - 2s 6ms/step - loss: 0.4057 - accuracy: 0.8597 - val_loss: 0.3810 - val_accuracy: 0.8689\n",
            "Epoch 5/5\n",
            "279/279 [==============================] - 2s 9ms/step - loss: 0.3929 - accuracy: 0.8641 - val_loss: 0.3821 - val_accuracy: 0.8680\n"
          ]
        }
      ]
    },
    {
      "cell_type": "markdown",
      "source": [
        "Train 2"
      ],
      "metadata": {
        "id": "8WTdQjyRwzBB"
      }
    },
    {
      "cell_type": "code",
      "source": [
        "history = model.fit(x_train_val, y_train_plus_val, batch_size= 64, validation_split=0.2, epochs=5)"
      ],
      "metadata": {
        "colab": {
          "base_uri": "https://localhost:8080/"
        },
        "id": "zjFlT4t94UqK",
        "outputId": "604ca4dc-03a6-4006-9029-6232674942c8"
      },
      "execution_count": 89,
      "outputs": [
        {
          "output_type": "stream",
          "name": "stdout",
          "text": [
            "Epoch 1/5\n",
            "279/279 [==============================] - 2s 6ms/step - loss: 0.4100 - accuracy: 0.8691 - val_loss: 0.3816 - val_accuracy: 0.8785\n",
            "Epoch 2/5\n",
            "279/279 [==============================] - 2s 6ms/step - loss: 0.4050 - accuracy: 0.8678 - val_loss: 0.4057 - val_accuracy: 0.8711\n",
            "Epoch 3/5\n",
            "279/279 [==============================] - 2s 7ms/step - loss: 0.3922 - accuracy: 0.8712 - val_loss: 0.3926 - val_accuracy: 0.8682\n",
            "Epoch 4/5\n",
            "279/279 [==============================] - 2s 6ms/step - loss: 0.3774 - accuracy: 0.8793 - val_loss: 0.3834 - val_accuracy: 0.8749\n",
            "Epoch 5/5\n",
            "279/279 [==============================] - 2s 6ms/step - loss: 0.3708 - accuracy: 0.8783 - val_loss: 0.3996 - val_accuracy: 0.8702\n"
          ]
        }
      ]
    },
    {
      "cell_type": "markdown",
      "source": [
        "Train 3"
      ],
      "metadata": {
        "id": "PG7HR10T8xMN"
      }
    },
    {
      "cell_type": "code",
      "source": [
        "history = model.fit(x_train_val, y_train_plus_val, batch_size= 64, validation_split=0.2, epochs=20, class_weight=class_weight) "
      ],
      "metadata": {
        "colab": {
          "base_uri": "https://localhost:8080/"
        },
        "id": "rfjn7yqV8fov",
        "outputId": "3affb0a4-71b1-4770-c318-2f322b2aebf3"
      },
      "execution_count": 118,
      "outputs": [
        {
          "output_type": "stream",
          "name": "stdout",
          "text": [
            "Epoch 1/20\n",
            "279/279 [==============================] - 3s 8ms/step - loss: 1.0232 - accuracy: 0.4283 - val_loss: 0.8396 - val_accuracy: 0.6626\n",
            "Epoch 2/20\n",
            "279/279 [==============================] - 2s 6ms/step - loss: 0.8530 - accuracy: 0.6212 - val_loss: 0.6891 - val_accuracy: 0.7577\n",
            "Epoch 3/20\n",
            "279/279 [==============================] - 2s 7ms/step - loss: 0.7896 - accuracy: 0.6116 - val_loss: 0.5908 - val_accuracy: 0.7485\n",
            "Epoch 4/20\n",
            "279/279 [==============================] - 2s 6ms/step - loss: 0.7443 - accuracy: 0.5978 - val_loss: 0.5958 - val_accuracy: 0.7039\n",
            "Epoch 5/20\n",
            "279/279 [==============================] - 2s 6ms/step - loss: 0.7018 - accuracy: 0.6237 - val_loss: 0.6112 - val_accuracy: 0.6586\n",
            "Epoch 6/20\n",
            "279/279 [==============================] - 2s 6ms/step - loss: 0.6676 - accuracy: 0.6392 - val_loss: 0.5770 - val_accuracy: 0.7115\n",
            "Epoch 7/20\n",
            "279/279 [==============================] - 2s 7ms/step - loss: 0.6426 - accuracy: 0.6484 - val_loss: 0.6282 - val_accuracy: 0.6564\n",
            "Epoch 8/20\n",
            "279/279 [==============================] - 2s 7ms/step - loss: 0.6075 - accuracy: 0.6649 - val_loss: 0.5623 - val_accuracy: 0.6924\n",
            "Epoch 9/20\n",
            "279/279 [==============================] - 2s 6ms/step - loss: 0.5986 - accuracy: 0.6724 - val_loss: 0.6124 - val_accuracy: 0.6772\n",
            "Epoch 10/20\n",
            "279/279 [==============================] - 2s 6ms/step - loss: 0.5767 - accuracy: 0.6764 - val_loss: 0.5952 - val_accuracy: 0.6714\n",
            "Epoch 11/20\n",
            "279/279 [==============================] - 2s 6ms/step - loss: 0.5558 - accuracy: 0.6892 - val_loss: 0.6578 - val_accuracy: 0.6503\n",
            "Epoch 12/20\n",
            "279/279 [==============================] - 2s 6ms/step - loss: 0.5420 - accuracy: 0.6910 - val_loss: 0.5345 - val_accuracy: 0.7162\n",
            "Epoch 13/20\n",
            "279/279 [==============================] - 2s 6ms/step - loss: 0.5205 - accuracy: 0.6997 - val_loss: 0.7994 - val_accuracy: 0.5763\n",
            "Epoch 14/20\n",
            "279/279 [==============================] - 2s 7ms/step - loss: 0.5174 - accuracy: 0.7007 - val_loss: 0.7990 - val_accuracy: 0.5766\n",
            "Epoch 15/20\n",
            "279/279 [==============================] - 2s 7ms/step - loss: 0.5150 - accuracy: 0.6969 - val_loss: 0.6789 - val_accuracy: 0.6409\n",
            "Epoch 16/20\n",
            "279/279 [==============================] - 2s 7ms/step - loss: 0.4922 - accuracy: 0.7111 - val_loss: 0.7007 - val_accuracy: 0.6436\n",
            "Epoch 17/20\n",
            "279/279 [==============================] - 2s 7ms/step - loss: 0.4754 - accuracy: 0.7128 - val_loss: 0.6247 - val_accuracy: 0.6763\n",
            "Epoch 18/20\n",
            "279/279 [==============================] - 2s 7ms/step - loss: 0.4755 - accuracy: 0.7119 - val_loss: 0.5335 - val_accuracy: 0.7306\n",
            "Epoch 19/20\n",
            "279/279 [==============================] - 2s 6ms/step - loss: 0.4600 - accuracy: 0.7168 - val_loss: 0.5924 - val_accuracy: 0.7104\n",
            "Epoch 20/20\n",
            "279/279 [==============================] - 2s 7ms/step - loss: 0.4509 - accuracy: 0.7161 - val_loss: 0.5694 - val_accuracy: 0.7059\n"
          ]
        }
      ]
    },
    {
      "cell_type": "markdown",
      "source": [
        "Run 4\n"
      ],
      "metadata": {
        "id": "S--m9IwmIJgo"
      }
    },
    {
      "cell_type": "code",
      "source": [
        "history = model.fit(x_train_val, y_train_plus_val, batch_size= 64, validation_split=0.2, epochs=20, class_weight=class_weight) "
      ],
      "metadata": {
        "colab": {
          "base_uri": "https://localhost:8080/"
        },
        "id": "akUotv_iII9J",
        "outputId": "fc4262de-b0ec-400d-a543-e664beffa293"
      },
      "execution_count": 137,
      "outputs": [
        {
          "output_type": "stream",
          "name": "stdout",
          "text": [
            "Epoch 1/20\n",
            "279/279 [==============================] - 3s 7ms/step - loss: 2.5164 - accuracy: 0.5050 - val_loss: 0.6468 - val_accuracy: 0.7606\n",
            "Epoch 2/20\n",
            "279/279 [==============================] - 2s 6ms/step - loss: 1.7045 - accuracy: 0.5287 - val_loss: 0.6052 - val_accuracy: 0.7895\n",
            "Epoch 3/20\n",
            "279/279 [==============================] - 2s 7ms/step - loss: 1.5009 - accuracy: 0.5592 - val_loss: 0.6433 - val_accuracy: 0.7904\n",
            "Epoch 4/20\n",
            "279/279 [==============================] - 2s 6ms/step - loss: 1.3492 - accuracy: 0.6252 - val_loss: 0.7675 - val_accuracy: 0.7373\n",
            "Epoch 5/20\n",
            "279/279 [==============================] - 2s 6ms/step - loss: 1.1748 - accuracy: 0.6753 - val_loss: 0.6384 - val_accuracy: 0.7814\n",
            "Epoch 6/20\n",
            "279/279 [==============================] - 2s 7ms/step - loss: 1.0843 - accuracy: 0.6958 - val_loss: 0.5209 - val_accuracy: 0.8023\n",
            "Epoch 7/20\n",
            "279/279 [==============================] - 2s 7ms/step - loss: 0.9967 - accuracy: 0.7180 - val_loss: 0.6409 - val_accuracy: 0.7642\n",
            "Epoch 8/20\n",
            "279/279 [==============================] - 2s 7ms/step - loss: 0.9473 - accuracy: 0.7224 - val_loss: 0.5234 - val_accuracy: 0.8180\n",
            "Epoch 9/20\n",
            "279/279 [==============================] - 2s 6ms/step - loss: 0.9187 - accuracy: 0.7288 - val_loss: 0.4796 - val_accuracy: 0.8352\n",
            "Epoch 10/20\n",
            "279/279 [==============================] - 2s 6ms/step - loss: 0.8574 - accuracy: 0.7433 - val_loss: 0.4347 - val_accuracy: 0.8509\n",
            "Epoch 11/20\n",
            "279/279 [==============================] - 2s 6ms/step - loss: 0.8169 - accuracy: 0.7457 - val_loss: 0.4389 - val_accuracy: 0.8480\n",
            "Epoch 12/20\n",
            "279/279 [==============================] - 2s 6ms/step - loss: 0.7808 - accuracy: 0.7613 - val_loss: 0.4637 - val_accuracy: 0.8408\n",
            "Epoch 13/20\n",
            "279/279 [==============================] - 2s 7ms/step - loss: 0.7388 - accuracy: 0.7675 - val_loss: 0.5050 - val_accuracy: 0.8247\n",
            "Epoch 14/20\n",
            "279/279 [==============================] - 2s 6ms/step - loss: 0.7138 - accuracy: 0.7771 - val_loss: 0.6106 - val_accuracy: 0.7781\n",
            "Epoch 15/20\n",
            "279/279 [==============================] - 2s 6ms/step - loss: 0.6857 - accuracy: 0.7730 - val_loss: 0.5418 - val_accuracy: 0.8137\n",
            "Epoch 16/20\n",
            "279/279 [==============================] - 2s 6ms/step - loss: 0.6523 - accuracy: 0.7874 - val_loss: 0.4503 - val_accuracy: 0.8417\n",
            "Epoch 17/20\n",
            "279/279 [==============================] - 2s 7ms/step - loss: 0.6521 - accuracy: 0.7883 - val_loss: 0.6149 - val_accuracy: 0.8016\n",
            "Epoch 18/20\n",
            "279/279 [==============================] - 2s 6ms/step - loss: 0.6364 - accuracy: 0.7936 - val_loss: 0.7712 - val_accuracy: 0.7337\n",
            "Epoch 19/20\n",
            "279/279 [==============================] - 2s 6ms/step - loss: 0.6230 - accuracy: 0.7949 - val_loss: 0.5560 - val_accuracy: 0.7947\n",
            "Epoch 20/20\n",
            "279/279 [==============================] - 2s 7ms/step - loss: 0.6081 - accuracy: 0.8012 - val_loss: 0.6421 - val_accuracy: 0.7765\n"
          ]
        }
      ]
    },
    {
      "cell_type": "code",
      "source": [
        "history = model.fit(x_train_val, y_train_plus_val, batch_size= 64, validation_split=0.2, epochs=20, class_weight=class_weight) "
      ],
      "metadata": {
        "colab": {
          "base_uri": "https://localhost:8080/"
        },
        "id": "JJzq-vpyIeFF",
        "outputId": "b0e2a9cb-3414-4b5d-f518-d11773b2922e"
      },
      "execution_count": 140,
      "outputs": [
        {
          "output_type": "stream",
          "name": "stdout",
          "text": [
            "Epoch 1/20\n",
            "279/279 [==============================] - 2s 6ms/step - loss: 0.5829 - accuracy: 0.8013 - val_loss: 0.5681 - val_accuracy: 0.7949\n",
            "Epoch 2/20\n",
            "279/279 [==============================] - 2s 6ms/step - loss: 0.5690 - accuracy: 0.8032 - val_loss: 0.6811 - val_accuracy: 0.7568\n",
            "Epoch 3/20\n",
            "279/279 [==============================] - 2s 6ms/step - loss: 0.5520 - accuracy: 0.8083 - val_loss: 0.5594 - val_accuracy: 0.8023\n",
            "Epoch 4/20\n",
            "279/279 [==============================] - 2s 6ms/step - loss: 0.5273 - accuracy: 0.8162 - val_loss: 0.4947 - val_accuracy: 0.8260\n",
            "Epoch 5/20\n",
            "279/279 [==============================] - 2s 7ms/step - loss: 0.4902 - accuracy: 0.8156 - val_loss: 0.5943 - val_accuracy: 0.7848\n",
            "Epoch 6/20\n",
            "279/279 [==============================] - 2s 7ms/step - loss: 0.4984 - accuracy: 0.8216 - val_loss: 0.4614 - val_accuracy: 0.8337\n",
            "Epoch 7/20\n",
            "279/279 [==============================] - 2s 7ms/step - loss: 0.5014 - accuracy: 0.8212 - val_loss: 0.5402 - val_accuracy: 0.8108\n",
            "Epoch 8/20\n",
            "279/279 [==============================] - 2s 6ms/step - loss: 0.4979 - accuracy: 0.8168 - val_loss: 0.6072 - val_accuracy: 0.7848\n",
            "Epoch 9/20\n",
            "279/279 [==============================] - 2s 6ms/step - loss: 0.4707 - accuracy: 0.8301 - val_loss: 0.7648 - val_accuracy: 0.7350\n",
            "Epoch 10/20\n",
            "279/279 [==============================] - 2s 7ms/step - loss: 0.4573 - accuracy: 0.8281 - val_loss: 0.4832 - val_accuracy: 0.8247\n",
            "Epoch 11/20\n",
            "279/279 [==============================] - 2s 7ms/step - loss: 0.4375 - accuracy: 0.8338 - val_loss: 0.6245 - val_accuracy: 0.7803\n",
            "Epoch 12/20\n",
            "279/279 [==============================] - 2s 6ms/step - loss: 0.4571 - accuracy: 0.8261 - val_loss: 0.5346 - val_accuracy: 0.8065\n",
            "Epoch 13/20\n",
            "279/279 [==============================] - 2s 6ms/step - loss: 0.4301 - accuracy: 0.8374 - val_loss: 0.5558 - val_accuracy: 0.7996\n",
            "Epoch 14/20\n",
            "279/279 [==============================] - 2s 6ms/step - loss: 0.4335 - accuracy: 0.8373 - val_loss: 0.5780 - val_accuracy: 0.7904\n",
            "Epoch 15/20\n",
            "279/279 [==============================] - 2s 7ms/step - loss: 0.4149 - accuracy: 0.8404 - val_loss: 0.5465 - val_accuracy: 0.8065\n",
            "Epoch 16/20\n",
            "279/279 [==============================] - 2s 6ms/step - loss: 0.4118 - accuracy: 0.8359 - val_loss: 0.5408 - val_accuracy: 0.8072\n",
            "Epoch 17/20\n",
            "279/279 [==============================] - 2s 7ms/step - loss: 0.3994 - accuracy: 0.8387 - val_loss: 0.4750 - val_accuracy: 0.8305\n",
            "Epoch 18/20\n",
            "279/279 [==============================] - 2s 6ms/step - loss: 0.4014 - accuracy: 0.8448 - val_loss: 0.5631 - val_accuracy: 0.8065\n",
            "Epoch 19/20\n",
            "279/279 [==============================] - 2s 7ms/step - loss: 0.3959 - accuracy: 0.8393 - val_loss: 0.4879 - val_accuracy: 0.8283\n",
            "Epoch 20/20\n",
            "279/279 [==============================] - 2s 6ms/step - loss: 0.3923 - accuracy: 0.8432 - val_loss: 0.6841 - val_accuracy: 0.7662\n"
          ]
        }
      ]
    },
    {
      "cell_type": "markdown",
      "source": [
        "Run 5"
      ],
      "metadata": {
        "id": "A5yd7KkaJQl3"
      }
    },
    {
      "cell_type": "code",
      "source": [
        "history = model.fit(x_train_val, y_train_plus_val, batch_size= 64, validation_split=0.2, epochs=20) "
      ],
      "metadata": {
        "colab": {
          "base_uri": "https://localhost:8080/"
        },
        "id": "V6CEH4bIJRan",
        "outputId": "3736740b-084b-47ee-a27f-a7cb233f8358"
      },
      "execution_count": 172,
      "outputs": [
        {
          "output_type": "stream",
          "name": "stdout",
          "text": [
            "Epoch 1/20\n",
            "755/755 [==============================] - 6s 7ms/step - loss: 0.7897 - accuracy: 0.6283 - val_loss: 0.5028 - val_accuracy: 0.8224\n",
            "Epoch 2/20\n",
            "755/755 [==============================] - 5s 6ms/step - loss: 0.5503 - accuracy: 0.7818 - val_loss: 0.4894 - val_accuracy: 0.8169\n",
            "Epoch 3/20\n",
            "755/755 [==============================] - 6s 7ms/step - loss: 0.4458 - accuracy: 0.8297 - val_loss: 0.4853 - val_accuracy: 0.8249\n",
            "Epoch 4/20\n",
            "755/755 [==============================] - 5s 6ms/step - loss: 0.3747 - accuracy: 0.8620 - val_loss: 0.5861 - val_accuracy: 0.8309\n",
            "Epoch 5/20\n",
            "755/755 [==============================] - 5s 6ms/step - loss: 0.3400 - accuracy: 0.8754 - val_loss: 0.5657 - val_accuracy: 0.8320\n",
            "Epoch 6/20\n",
            "755/755 [==============================] - 5s 6ms/step - loss: 0.3083 - accuracy: 0.8896 - val_loss: 0.5750 - val_accuracy: 0.8443\n",
            "Epoch 7/20\n",
            "755/755 [==============================] - 5s 6ms/step - loss: 0.2918 - accuracy: 0.8941 - val_loss: 0.6870 - val_accuracy: 0.8459\n",
            "Epoch 8/20\n",
            "755/755 [==============================] - 5s 6ms/step - loss: 0.2701 - accuracy: 0.9022 - val_loss: 0.7531 - val_accuracy: 0.8502\n",
            "Epoch 9/20\n",
            "755/755 [==============================] - 5s 6ms/step - loss: 0.2619 - accuracy: 0.9056 - val_loss: 0.7768 - val_accuracy: 0.8507\n",
            "Epoch 10/20\n",
            "755/755 [==============================] - 5s 6ms/step - loss: 0.2484 - accuracy: 0.9110 - val_loss: 0.6838 - val_accuracy: 0.8473\n",
            "Epoch 11/20\n",
            "755/755 [==============================] - 5s 6ms/step - loss: 0.2359 - accuracy: 0.9143 - val_loss: 0.7575 - val_accuracy: 0.8537\n",
            "Epoch 12/20\n",
            "755/755 [==============================] - 5s 6ms/step - loss: 0.2285 - accuracy: 0.9169 - val_loss: 0.9138 - val_accuracy: 0.8262\n",
            "Epoch 13/20\n",
            "755/755 [==============================] - 5s 6ms/step - loss: 0.2210 - accuracy: 0.9217 - val_loss: 0.8279 - val_accuracy: 0.8278\n",
            "Epoch 14/20\n",
            "755/755 [==============================] - 5s 6ms/step - loss: 0.2117 - accuracy: 0.9255 - val_loss: 0.8829 - val_accuracy: 0.8416\n",
            "Epoch 15/20\n",
            "755/755 [==============================] - 5s 6ms/step - loss: 0.2089 - accuracy: 0.9266 - val_loss: 1.1794 - val_accuracy: 0.8166\n",
            "Epoch 16/20\n",
            "755/755 [==============================] - 5s 6ms/step - loss: 0.2000 - accuracy: 0.9284 - val_loss: 1.1601 - val_accuracy: 0.8214\n",
            "Epoch 17/20\n",
            "755/755 [==============================] - 5s 6ms/step - loss: 0.2002 - accuracy: 0.9291 - val_loss: 1.1322 - val_accuracy: 0.8267\n",
            "Epoch 18/20\n",
            "755/755 [==============================] - 5s 6ms/step - loss: 0.1939 - accuracy: 0.9308 - val_loss: 0.9220 - val_accuracy: 0.8480\n",
            "Epoch 19/20\n",
            "755/755 [==============================] - 5s 6ms/step - loss: 0.1880 - accuracy: 0.9335 - val_loss: 0.8456 - val_accuracy: 0.8407\n",
            "Epoch 20/20\n",
            "755/755 [==============================] - 5s 6ms/step - loss: 0.1858 - accuracy: 0.9339 - val_loss: 0.9967 - val_accuracy: 0.8335\n"
          ]
        }
      ]
    },
    {
      "cell_type": "code",
      "source": [
        "history = model.fit(x_train_val, y_train_plus_val, batch_size= 32, validation_split=0.2, epochs=10) "
      ],
      "metadata": {
        "colab": {
          "base_uri": "https://localhost:8080/"
        },
        "id": "BEGxvKhYKPfI",
        "outputId": "a9c7c929-711c-4511-c722-966d9f725329"
      },
      "execution_count": 181,
      "outputs": [
        {
          "output_type": "stream",
          "name": "stdout",
          "text": [
            "Epoch 1/10\n",
            "1509/1509 [==============================] - 11s 7ms/step - loss: 0.7411 - accuracy: 0.6661 - val_loss: 0.5939 - val_accuracy: 0.7646\n",
            "Epoch 2/10\n",
            "1509/1509 [==============================] - 8s 6ms/step - loss: 0.5188 - accuracy: 0.8001 - val_loss: 0.4184 - val_accuracy: 0.8381\n",
            "Epoch 3/10\n",
            "1509/1509 [==============================] - 8s 6ms/step - loss: 0.4164 - accuracy: 0.8437 - val_loss: 0.4611 - val_accuracy: 0.8461\n",
            "Epoch 4/10\n",
            "1509/1509 [==============================] - 8s 6ms/step - loss: 0.3580 - accuracy: 0.8666 - val_loss: 0.4811 - val_accuracy: 0.8404\n",
            "Epoch 5/10\n",
            "1509/1509 [==============================] - 8s 6ms/step - loss: 0.3217 - accuracy: 0.8813 - val_loss: 0.5122 - val_accuracy: 0.8470\n",
            "Epoch 6/10\n",
            "1509/1509 [==============================] - 8s 5ms/step - loss: 0.2950 - accuracy: 0.8911 - val_loss: 0.5695 - val_accuracy: 0.8302\n",
            "Epoch 7/10\n",
            "1509/1509 [==============================] - 8s 6ms/step - loss: 0.2788 - accuracy: 0.8993 - val_loss: 0.7309 - val_accuracy: 0.8439\n",
            "Epoch 8/10\n",
            "1509/1509 [==============================] - 9s 6ms/step - loss: 0.2664 - accuracy: 0.9027 - val_loss: 0.6508 - val_accuracy: 0.8458\n",
            "Epoch 9/10\n",
            "1509/1509 [==============================] - 9s 6ms/step - loss: 0.2474 - accuracy: 0.9104 - val_loss: 0.6303 - val_accuracy: 0.8441\n",
            "Epoch 10/10\n",
            "1509/1509 [==============================] - 8s 5ms/step - loss: 0.2413 - accuracy: 0.9122 - val_loss: 0.6763 - val_accuracy: 0.8602\n"
          ]
        }
      ]
    },
    {
      "cell_type": "code",
      "source": [
        "history = model.fit(x_train_val, y_train_plus_val, batch_size= 32, validation_split=0.2, epochs=5) "
      ],
      "metadata": {
        "colab": {
          "base_uri": "https://localhost:8080/"
        },
        "id": "rAnWF4gIK_G0",
        "outputId": "d5fc2d38-6885-436c-bf84-b24ff07d7220"
      },
      "execution_count": 196,
      "outputs": [
        {
          "output_type": "stream",
          "name": "stdout",
          "text": [
            "Epoch 1/5\n",
            "1509/1509 [==============================] - 9s 6ms/step - loss: 0.7874 - accuracy: 0.6112 - val_loss: 0.5355 - val_accuracy: 0.7944\n",
            "Epoch 2/5\n",
            "1509/1509 [==============================] - 8s 5ms/step - loss: 0.5295 - accuracy: 0.7881 - val_loss: 0.5496 - val_accuracy: 0.7953\n",
            "Epoch 3/5\n",
            "1509/1509 [==============================] - 8s 6ms/step - loss: 0.4198 - accuracy: 0.8397 - val_loss: 0.4630 - val_accuracy: 0.8578\n",
            "Epoch 4/5\n",
            "1509/1509 [==============================] - 8s 5ms/step - loss: 0.3555 - accuracy: 0.8682 - val_loss: 0.5025 - val_accuracy: 0.8622\n",
            "Epoch 5/5\n",
            "1509/1509 [==============================] - 8s 5ms/step - loss: 0.3189 - accuracy: 0.8837 - val_loss: 0.5594 - val_accuracy: 0.8557\n"
          ]
        }
      ]
    },
    {
      "cell_type": "markdown",
      "source": [
        "# Current Train"
      ],
      "metadata": {
        "id": "Lfc4L6Jzwwd1"
      }
    },
    {
      "cell_type": "code",
      "source": [
        "history = model.fit(x_train_val, y_train_plus_val, batch_size= 32, validation_split=0.2, epochs=5, class_weight=class_weight) "
      ],
      "metadata": {
        "colab": {
          "base_uri": "https://localhost:8080/"
        },
        "id": "My8fNOxMO6dv",
        "outputId": "3bd6e8b1-b806-460d-f724-56bdf1202c16"
      },
      "execution_count": 379,
      "outputs": [
        {
          "output_type": "stream",
          "name": "stdout",
          "text": [
            "Epoch 1/5\n",
            "1509/1509 [==============================] - 11s 7ms/step - loss: 2.0528 - accuracy: 0.4294 - val_loss: 0.8389 - val_accuracy: 0.6968\n",
            "Epoch 2/5\n",
            "1509/1509 [==============================] - 10s 7ms/step - loss: 1.2116 - accuracy: 0.5014 - val_loss: 0.9283 - val_accuracy: 0.4102\n",
            "Epoch 3/5\n",
            "1509/1509 [==============================] - 10s 6ms/step - loss: 1.0627 - accuracy: 0.5241 - val_loss: 1.0945 - val_accuracy: 0.2505\n",
            "Epoch 4/5\n",
            "1509/1509 [==============================] - 10s 7ms/step - loss: 0.9690 - accuracy: 0.5660 - val_loss: 0.8111 - val_accuracy: 0.6489\n",
            "Epoch 5/5\n",
            "1509/1509 [==============================] - 9s 6ms/step - loss: 0.8254 - accuracy: 0.6726 - val_loss: 0.7820 - val_accuracy: 0.7093\n"
          ]
        }
      ]
    },
    {
      "cell_type": "code",
      "source": [
        "history = model.fit(x_train_val, y_train_plus_val, batch_size= 32, validation_split=0.2, epochs=1, class_weight=class_weight) "
      ],
      "metadata": {
        "colab": {
          "base_uri": "https://localhost:8080/"
        },
        "id": "Pi5fsaV6QewQ",
        "outputId": "b5a73da3-bae7-4a63-fe9c-626fc4f8b941"
      },
      "execution_count": 390,
      "outputs": [
        {
          "output_type": "stream",
          "name": "stdout",
          "text": [
            "1509/1509 [==============================] - 9s 6ms/step - loss: 0.4693 - accuracy: 0.8253 - val_loss: 0.6158 - val_accuracy: 0.7895\n"
          ]
        }
      ]
    },
    {
      "cell_type": "code",
      "source": [
        "history = model.fit(x_train_val, y_train_plus_val, batch_size= 32, validation_split=0.2, epochs=5) "
      ],
      "metadata": {
        "colab": {
          "base_uri": "https://localhost:8080/"
        },
        "id": "GtK9p9pyP6zD",
        "outputId": "59a2a743-38b5-4963-d3a3-896b1a48d5e5"
      },
      "execution_count": 282,
      "outputs": [
        {
          "output_type": "stream",
          "name": "stdout",
          "text": [
            "Epoch 1/5\n",
            "1509/1509 [==============================] - 8s 5ms/step - loss: 0.4423 - accuracy: 0.8415 - val_loss: 0.5279 - val_accuracy: 0.8095\n",
            "Epoch 2/5\n",
            "1509/1509 [==============================] - 8s 5ms/step - loss: 0.3968 - accuracy: 0.8603 - val_loss: 0.5668 - val_accuracy: 0.8238\n",
            "Epoch 3/5\n",
            "1509/1509 [==============================] - 8s 5ms/step - loss: 0.3624 - accuracy: 0.8710 - val_loss: 0.6270 - val_accuracy: 0.7958\n",
            "Epoch 4/5\n",
            "1509/1509 [==============================] - 8s 5ms/step - loss: 0.3379 - accuracy: 0.8790 - val_loss: 0.7211 - val_accuracy: 0.7615\n",
            "Epoch 5/5\n",
            "1509/1509 [==============================] - 8s 5ms/step - loss: 0.3088 - accuracy: 0.8897 - val_loss: 0.5874 - val_accuracy: 0.8162\n"
          ]
        }
      ]
    },
    {
      "cell_type": "code",
      "source": [
        "# Plot loss\n",
        "plt.plot(history.history['loss'], label='train')\n",
        "plt.plot(history.history['val_loss'], label='validation')\n",
        "plt.xlabel('Epochs')\n",
        "plt.ylabel('Loss')\n",
        "plt.title('Training loss vs. Epochs')\n",
        "plt.legend()\n",
        "plt.show()"
      ],
      "metadata": {
        "colab": {
          "base_uri": "https://localhost:8080/",
          "height": 296
        },
        "id": "wM8jCY94VblS",
        "outputId": "0af946f4-c8fd-4a06-fbab-972c0a37378c"
      },
      "execution_count": 173,
      "outputs": [
        {
          "output_type": "display_data",
          "data": {
            "text/plain": [
              "<Figure size 432x288 with 1 Axes>"
            ],
            "image/png": "[encoded data removed]"
          },
          "metadata": {
            "needs_background": "light"
          }
        }
      ]
    },
    {
      "cell_type": "code",
      "source": [
        "# Plot accuracy\n",
        "plt.plot(history.history['accuracy'], label='train')\n",
        "plt.plot(history.history['val_accuracy'], label='validation')\n",
        "plt.xlabel('Epochs')\n",
        "plt.ylabel('Accuracy')\n",
        "plt.title('Training accuracy vs. Epochs')\n",
        "plt.legend()\n",
        "plt.show()"
      ],
      "metadata": {
        "colab": {
          "base_uri": "https://localhost:8080/",
          "height": 296
        },
        "id": "afvArbhNVbsJ",
        "outputId": "2364ea1e-b7eb-4d3b-af85-9cde79e3316f"
      },
      "execution_count": 287,
      "outputs": [
        {
          "output_type": "display_data",
          "data": {
            "text/plain": [
              "<Figure size 432x288 with 1 Axes>"
            ],
            "image/png": "[encoded data removed]"
          },
          "metadata": {
            "needs_background": "light"
          }
        }
      ]
    },
    {
      "cell_type": "code",
      "source": [
        "y_train_plus_val =  tf.keras.utils.to_categorical(y, num_classes=3)\n",
        "y_test =  tf.keras.utils.to_categorical(df_test.label, num_classes=3)\n",
        "y_train_plus_val\n",
        "\n",
        "model.evaluate(x_test,y_test)"
      ],
      "metadata": {
        "colab": {
          "base_uri": "https://localhost:8080/"
        },
        "id": "Ij7ctD3QSI8o",
        "outputId": "7998577e-3282-49d6-8151-42dfba6f8724"
      },
      "execution_count": 391,
      "outputs": [
        {
          "output_type": "stream",
          "name": "stdout",
          "text": [
            "210/210 [==============================] - 1s 4ms/step - loss: 1.0139 - accuracy: 0.6292\n"
          ]
        },
        {
          "output_type": "execute_result",
          "data": {
            "text/plain": [
              "[1.0139378309249878, 0.6291766166687012]"
            ]
          },
          "metadata": {},
          "execution_count": 391
        }
      ]
    },
    {
      "cell_type": "code",
      "source": [
        "model.evaluate(x_train_val,y_train_plus_val, batch_size = 64)"
      ],
      "metadata": {
        "colab": {
          "base_uri": "https://localhost:8080/"
        },
        "id": "iOHDJb_fVed4",
        "outputId": "327dbf75-ab8f-4673-bdd4-acade11bf6b2"
      },
      "execution_count": 371,
      "outputs": [
        {
          "output_type": "stream",
          "name": "stdout",
          "text": [
            "943/943 [==============================] - 3s 3ms/step - loss: 0.3737 - accuracy: 0.8688\n"
          ]
        },
        {
          "output_type": "execute_result",
          "data": {
            "text/plain": [
              "[0.373694509267807, 0.8688353300094604]"
            ]
          },
          "metadata": {},
          "execution_count": 371
        }
      ]
    },
    {
      "cell_type": "code",
      "source": [
        "y_pred = model.predict(x_test)\n",
        "y_pred\n",
        "y_pred = np.array( [ np.argmax (y) for y in y_pred ] )\n",
        "y_test_labels = df_test.label\n",
        "y_test =  df_test.label"
      ],
      "metadata": {
        "id": "qSNgAZrKVhi9"
      },
      "execution_count": 392,
      "outputs": []
    },
    {
      "cell_type": "code",
      "source": [
        "from sklearn.metrics import classification_report\n",
        "print(classification_report(y_test, y_pred))"
      ],
      "metadata": {
        "colab": {
          "base_uri": "https://localhost:8080/"
        },
        "id": "j1UzXxSSuiTX",
        "outputId": "ac6ed5c2-51f4-4501-eb02-ca0931c573d3"
      },
      "execution_count": 393,
      "outputs": [
        {
          "output_type": "stream",
          "name": "stdout",
          "text": [
            "              precision    recall  f1-score   support\n",
            "\n",
            "           0       0.73      0.48      0.58      2288\n",
            "           1       0.48      0.84      0.61      1920\n",
            "           2       0.82      0.60      0.70      2496\n",
            "\n",
            "    accuracy                           0.63      6704\n",
            "   macro avg       0.68      0.64      0.63      6704\n",
            "weighted avg       0.69      0.63      0.63      6704\n",
            "\n"
          ]
        }
      ]
    },
    {
      "cell_type": "code",
      "source": [
        "cm = confusion_matrix(y_test_labels, y_pred)\n",
        "fig = sns.heatmap(cm, annot=True, fmt=\"d\")\n",
        "plt.title(\"Confusion Matrix\")\n",
        "plt.xlabel(\"Predicted Label\")\n",
        "plt.ylabel(\"Actual Label\")\n",
        "plt.show(fig)"
      ],
      "metadata": {
        "colab": {
          "base_uri": "https://localhost:8080/",
          "height": 296
        },
        "id": "EMcAqopaVlGf",
        "outputId": "bda41463-3b58-4c17-c407-0ef26ede7dc9"
      },
      "execution_count": 227,
      "outputs": [
        {
          "output_type": "display_data",
          "data": {
            "text/plain": [
              "<Figure size 432x288 with 2 Axes>"
            ],
            "image/png": "[encoded data removed]"
          },
          "metadata": {
            "needs_background": "light"
          }
        }
      ]
    },
    {
      "cell_type": "code",
      "source": [
        "from sklearn.metrics import confusion_matrix\n",
        "import seaborn as sns\n",
        "\n",
        "cm = confusion_matrix(y_test, y_pred)\n",
        "# Normalise\n",
        "cmn = cm.astype('float') / cm.sum(axis=1)[:, np.newaxis]\n",
        "fig, ax = plt.subplots(figsize=(10,10))\n",
        "sns.heatmap(cmn, annot=True, fmt='.2f')\n",
        "plt.ylabel('Actual')\n",
        "plt.xlabel('Predicted')\n",
        "plt.show(block=False)"
      ],
      "metadata": {
        "colab": {
          "base_uri": "https://localhost:8080/",
          "height": 605
        },
        "id": "0-Ruzk2Ub39h",
        "outputId": "8ff50ddc-d348-414c-e9ee-900e0d8c0e43"
      },
      "execution_count": 228,
      "outputs": [
        {
          "output_type": "display_data",
          "data": {
            "text/plain": [
              "<Figure size 720x720 with 2 Axes>"
            ],
            "image/png": "[encoded data removed]"
          },
          "metadata": {
            "needs_background": "light"
          }
        }
      ]
    },
    {
      "cell_type": "code",
      "source": [
        "from sklearn.metrics import confusion_matrix\n",
        "confusion_matrix(y_test_labels, y_pred)"
      ],
      "metadata": {
        "colab": {
          "base_uri": "https://localhost:8080/"
        },
        "id": "6Cw5ZLolVlLj",
        "outputId": "6e316639-932f-4f00-bc40-ba6afac8952d"
      },
      "execution_count": null,
      "outputs": [
        {
          "output_type": "execute_result",
          "data": {
            "text/plain": [
              "array([[1248,  624,  416],\n",
              "       [ 304, 1394,  222],\n",
              "       [ 144,  390, 1962]])"
            ]
          },
          "metadata": {},
          "execution_count": 76
        }
      ]
    },
    {
      "cell_type": "code",
      "source": [
        "C = confusion_matrix(y_test_labels, y_pred)\n",
        "C"
      ],
      "metadata": {
        "colab": {
          "base_uri": "https://localhost:8080/"
        },
        "id": "mgtF2MBpcH5N",
        "outputId": "ee3f1c12-beef-4261-80b8-6b74d4d8146a"
      },
      "execution_count": null,
      "outputs": [
        {
          "output_type": "execute_result",
          "data": {
            "text/plain": [
              "array([[1248,  624,  416],\n",
              "       [ 304, 1394,  222],\n",
              "       [ 144,  390, 1962]])"
            ]
          },
          "metadata": {},
          "execution_count": 74
        }
      ]
    },
    {
      "cell_type": "code",
      "source": [
        "C / C.astype(np.float).sum(axis=1)"
      ],
      "metadata": {
        "colab": {
          "base_uri": "https://localhost:8080/"
        },
        "id": "lXYFkQt-cPTC",
        "outputId": "e5e15234-92a0-4e63-ca1f-e37cae4bc162"
      },
      "execution_count": null,
      "outputs": [
        {
          "output_type": "stream",
          "name": "stderr",
          "text": [
            "/usr/local/lib/python3.7/dist-packages/ipykernel_launcher.py:1: DeprecationWarning: `np.float` is a deprecated alias for the builtin `float`. To silence this warning, use `float` by itself. Doing this will not modify any behavior and is safe. If you specifically wanted the numpy scalar type, use `np.float64` here.\n",
            "Deprecated in NumPy 1.20; for more details and guidance: https://numpy.org/devdocs/release/1.20.0-notes.html#deprecations\n",
            "  \"\"\"Entry point for launching an IPython kernel.\n"
          ]
        },
        {
          "output_type": "execute_result",
          "data": {
            "text/plain": [
              "array([[0.54545455, 0.325     , 0.16666667],\n",
              "       [0.13286713, 0.72604167, 0.08894231],\n",
              "       [0.06293706, 0.203125  , 0.78605769]])"
            ]
          },
          "metadata": {},
          "execution_count": 75
        }
      ]
    },
    {
      "cell_type": "code",
      "source": [
        "from sklearn.metrics import f1_score\n",
        "f1_score(y_test, y_pred, average=None), f1_score(y_test, y_pred, average='micro'), f1_score(y_test, y_pred, average='macro'), f1_score(y_test, y_pred, average='weighted'),"
      ],
      "metadata": {
        "colab": {
          "base_uri": "https://localhost:8080/"
        },
        "id": "KXei03avVyKa",
        "outputId": "3b635557-589d-4563-f39a-3f19a03f2cb1"
      },
      "execution_count": null,
      "outputs": [
        {
          "output_type": "execute_result",
          "data": {
            "text/plain": [
              "(array([0.62650602, 0.64417745, 0.7700157 ]),\n",
              " 0.6867541766109785,\n",
              " 0.6802330572839065,\n",
              " 0.6849978623521713)"
            ]
          },
          "metadata": {},
          "execution_count": 68
        }
      ]
    },
    {
      "cell_type": "code",
      "source": [
        "from sklearn.metrics import precision_recall_fscore_support\n",
        "precesion, recall, f1, _ = precision_recall_fscore_support(y_test, y_pred)\n",
        "precesion, recall, f1"
      ],
      "metadata": {
        "colab": {
          "base_uri": "https://localhost:8080/"
        },
        "id": "ugdixhe_cZnv",
        "outputId": "6147c5b5-3604-4cd7-dcb6-87be6076c182"
      },
      "execution_count": null,
      "outputs": [
        {
          "output_type": "execute_result",
          "data": {
            "text/plain": [
              "(array([0.73584906, 0.57890365, 0.75461538]),\n",
              " array([0.54545455, 0.72604167, 0.78605769]),\n",
              " array([0.62650602, 0.64417745, 0.7700157 ]))"
            ]
          },
          "metadata": {},
          "execution_count": 77
        }
      ]
    }
  ]
}